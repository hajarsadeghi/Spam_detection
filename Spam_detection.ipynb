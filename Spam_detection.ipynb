{
 "cells": [
  {
   "cell_type": "code",
   "execution_count": 77,
   "id": "2bc082a3",
   "metadata": {},
   "outputs": [
    {
     "name": "stdout",
     "output_type": "stream",
     "text": [
      "(5572, 2)\n"
     ]
    },
    {
     "data": {
      "text/html": [
       "<div>\n",
       "<style scoped>\n",
       "    .dataframe tbody tr th:only-of-type {\n",
       "        vertical-align: middle;\n",
       "    }\n",
       "\n",
       "    .dataframe tbody tr th {\n",
       "        vertical-align: top;\n",
       "    }\n",
       "\n",
       "    .dataframe thead th {\n",
       "        text-align: right;\n",
       "    }\n",
       "</style>\n",
       "<table border=\"1\" class=\"dataframe\">\n",
       "  <thead>\n",
       "    <tr style=\"text-align: right;\">\n",
       "      <th></th>\n",
       "      <th>Label</th>\n",
       "      <th>Message</th>\n",
       "    </tr>\n",
       "  </thead>\n",
       "  <tbody>\n",
       "    <tr>\n",
       "      <th>0</th>\n",
       "      <td>0</td>\n",
       "      <td>go until jurong point  crazy   available only ...</td>\n",
       "    </tr>\n",
       "    <tr>\n",
       "      <th>1</th>\n",
       "      <td>0</td>\n",
       "      <td>ok lar    joking wif u oni</td>\n",
       "    </tr>\n",
       "    <tr>\n",
       "      <th>2</th>\n",
       "      <td>1</td>\n",
       "      <td>free entry in 2 a wkly comp to win fa cup fina...</td>\n",
       "    </tr>\n",
       "    <tr>\n",
       "      <th>3</th>\n",
       "      <td>0</td>\n",
       "      <td>u dun say so early hor    u c already then say</td>\n",
       "    </tr>\n",
       "    <tr>\n",
       "      <th>4</th>\n",
       "      <td>0</td>\n",
       "      <td>nah i don t think he goes to usf  he lives aro...</td>\n",
       "    </tr>\n",
       "  </tbody>\n",
       "</table>\n",
       "</div>"
      ],
      "text/plain": [
       "   Label                                            Message\n",
       "0      0  go until jurong point  crazy   available only ...\n",
       "1      0                      ok lar    joking wif u oni   \n",
       "2      1  free entry in 2 a wkly comp to win fa cup fina...\n",
       "3      0  u dun say so early hor    u c already then say   \n",
       "4      0  nah i don t think he goes to usf  he lives aro..."
      ]
     },
     "execution_count": 77,
     "metadata": {},
     "output_type": "execute_result"
    }
   ],
   "source": [
    "#read the message csv file into the message_df dataframe\n",
    "import pandas as pd\n",
    "data_path = r'datasets/message.csv'\n",
    "message_df = pd.read_csv(data_path)\n",
    "print(message_df.shape)\n",
    "message_df.head()"
   ]
  },
  {
   "cell_type": "markdown",
   "id": "4a2684fc",
   "metadata": {},
   "source": [
    "As you can see above we have 5572 messages, with their related label(1(spam), 0(ham/non-spam))"
   ]
  },
  {
   "cell_type": "markdown",
   "id": "5b52d45a",
   "metadata": {},
   "source": [
    "# Data Preparation - Question1"
   ]
  },
  {
   "cell_type": "markdown",
   "id": "6ed3d3b5",
   "metadata": {},
   "source": [
    "**We are going to test all the functions in this notebook at the end based on K = 10 fold splitting (for each iteration) and test our results."
   ]
  },
  {
   "cell_type": "code",
   "execution_count": 78,
   "id": "4327a1d0",
   "metadata": {},
   "outputs": [],
   "source": [
    "import numpy as np\n",
    "# Q1.1 \n",
    "#define num of unique words function\n",
    "def num_unique_words(messages):\n",
    "    unique_words = []\n",
    "    for message in messages:\n",
    "        for word in message.split():\n",
    "            if word not in unique_words:\n",
    "                unique_words.append(word)\n",
    "    unique_words.sort()\n",
    "    return unique_words\n",
    "\n",
    "unique_words = num_unique_words(message_df['Message'])\n",
    "\n",
    "#Q1.2\n",
    "def count_of_unique(unique_words, message_series):\n",
    "    #initialize count matrix using a numpy array\n",
    "    count_matrix = np.zeros((message_series.shape[0],len(unique_words)))\n",
    "    \n",
    "    #get unique word counts for each message\n",
    "    for ind, m in enumerate(message_series):\n",
    "        words = m.split()\n",
    "        for ui, w in enumerate(unique_words):\n",
    "            count_matrix[ind,ui] = words.count(w)    \n",
    "\n",
    "    return pd.DataFrame(count_matrix, columns=unique_words)    \n",
    "\n"
   ]
  },
  {
   "cell_type": "code",
   "execution_count": 79,
   "id": "7b76bfcf",
   "metadata": {},
   "outputs": [],
   "source": [
    "# %%time\n",
    "#Sample Function Call\n",
    "count_unique_df = count_of_unique(unique_words, message_df['Message'])"
   ]
  },
  {
   "cell_type": "markdown",
   "id": "438752d5",
   "metadata": {},
   "source": [
    "We defined a function named num_unique_words that saves the unique_words into the unique_words array in alphabetical order when giving the training messages. Second, we defined the count_of_unique function that takes unique_words, and message series as parameters that, at first, create a NumPy array of M*N zeros, then counts the unique words in each message and populates the matrix accordingly, and we save the matrix into the count_unique_df dataframe. Finally, we get the running time to check if it's efficient, and in fact, for about 5000 rows and more than 8000 unique words, it is less than 15 seconds."
   ]
  },
  {
   "cell_type": "code",
   "execution_count": 80,
   "id": "92b08519",
   "metadata": {},
   "outputs": [
    {
     "data": {
      "text/html": [
       "<div>\n",
       "<style scoped>\n",
       "    .dataframe tbody tr th:only-of-type {\n",
       "        vertical-align: middle;\n",
       "    }\n",
       "\n",
       "    .dataframe tbody tr th {\n",
       "        vertical-align: top;\n",
       "    }\n",
       "\n",
       "    .dataframe thead th {\n",
       "        text-align: right;\n",
       "    }\n",
       "</style>\n",
       "<table border=\"1\" class=\"dataframe\">\n",
       "  <thead>\n",
       "    <tr style=\"text-align: right;\">\n",
       "      <th></th>\n",
       "      <th>0</th>\n",
       "      <th>00</th>\n",
       "      <th>000</th>\n",
       "      <th>000pes</th>\n",
       "      <th>008704050406</th>\n",
       "      <th>0089</th>\n",
       "      <th>0121</th>\n",
       "      <th>01223585236</th>\n",
       "      <th>01223585334</th>\n",
       "      <th>0125698789</th>\n",
       "      <th>...</th>\n",
       "      <th>zogtorius</th>\n",
       "      <th>zoom</th>\n",
       "      <th>zouk</th>\n",
       "      <th>zyada</th>\n",
       "      <th>èn</th>\n",
       "      <th>é</th>\n",
       "      <th>ú1</th>\n",
       "      <th>ü</th>\n",
       "      <th>〨ud</th>\n",
       "      <th>鈥</th>\n",
       "    </tr>\n",
       "  </thead>\n",
       "  <tbody>\n",
       "    <tr>\n",
       "      <th>0</th>\n",
       "      <td>0.0</td>\n",
       "      <td>0.0</td>\n",
       "      <td>0.0</td>\n",
       "      <td>0.0</td>\n",
       "      <td>0.0</td>\n",
       "      <td>0.0</td>\n",
       "      <td>0.0</td>\n",
       "      <td>0.0</td>\n",
       "      <td>0.0</td>\n",
       "      <td>0.0</td>\n",
       "      <td>...</td>\n",
       "      <td>0.0</td>\n",
       "      <td>0.0</td>\n",
       "      <td>0.0</td>\n",
       "      <td>0.0</td>\n",
       "      <td>0.0</td>\n",
       "      <td>0.0</td>\n",
       "      <td>0.0</td>\n",
       "      <td>0.0</td>\n",
       "      <td>0.0</td>\n",
       "      <td>0.0</td>\n",
       "    </tr>\n",
       "    <tr>\n",
       "      <th>1</th>\n",
       "      <td>0.0</td>\n",
       "      <td>0.0</td>\n",
       "      <td>0.0</td>\n",
       "      <td>0.0</td>\n",
       "      <td>0.0</td>\n",
       "      <td>0.0</td>\n",
       "      <td>0.0</td>\n",
       "      <td>0.0</td>\n",
       "      <td>0.0</td>\n",
       "      <td>0.0</td>\n",
       "      <td>...</td>\n",
       "      <td>0.0</td>\n",
       "      <td>0.0</td>\n",
       "      <td>0.0</td>\n",
       "      <td>0.0</td>\n",
       "      <td>0.0</td>\n",
       "      <td>0.0</td>\n",
       "      <td>0.0</td>\n",
       "      <td>0.0</td>\n",
       "      <td>0.0</td>\n",
       "      <td>0.0</td>\n",
       "    </tr>\n",
       "    <tr>\n",
       "      <th>2</th>\n",
       "      <td>0.0</td>\n",
       "      <td>0.0</td>\n",
       "      <td>0.0</td>\n",
       "      <td>0.0</td>\n",
       "      <td>0.0</td>\n",
       "      <td>0.0</td>\n",
       "      <td>0.0</td>\n",
       "      <td>0.0</td>\n",
       "      <td>0.0</td>\n",
       "      <td>0.0</td>\n",
       "      <td>...</td>\n",
       "      <td>0.0</td>\n",
       "      <td>0.0</td>\n",
       "      <td>0.0</td>\n",
       "      <td>0.0</td>\n",
       "      <td>0.0</td>\n",
       "      <td>0.0</td>\n",
       "      <td>0.0</td>\n",
       "      <td>0.0</td>\n",
       "      <td>0.0</td>\n",
       "      <td>0.0</td>\n",
       "    </tr>\n",
       "    <tr>\n",
       "      <th>3</th>\n",
       "      <td>0.0</td>\n",
       "      <td>0.0</td>\n",
       "      <td>0.0</td>\n",
       "      <td>0.0</td>\n",
       "      <td>0.0</td>\n",
       "      <td>0.0</td>\n",
       "      <td>0.0</td>\n",
       "      <td>0.0</td>\n",
       "      <td>0.0</td>\n",
       "      <td>0.0</td>\n",
       "      <td>...</td>\n",
       "      <td>0.0</td>\n",
       "      <td>0.0</td>\n",
       "      <td>0.0</td>\n",
       "      <td>0.0</td>\n",
       "      <td>0.0</td>\n",
       "      <td>0.0</td>\n",
       "      <td>0.0</td>\n",
       "      <td>0.0</td>\n",
       "      <td>0.0</td>\n",
       "      <td>0.0</td>\n",
       "    </tr>\n",
       "    <tr>\n",
       "      <th>4</th>\n",
       "      <td>0.0</td>\n",
       "      <td>0.0</td>\n",
       "      <td>0.0</td>\n",
       "      <td>0.0</td>\n",
       "      <td>0.0</td>\n",
       "      <td>0.0</td>\n",
       "      <td>0.0</td>\n",
       "      <td>0.0</td>\n",
       "      <td>0.0</td>\n",
       "      <td>0.0</td>\n",
       "      <td>...</td>\n",
       "      <td>0.0</td>\n",
       "      <td>0.0</td>\n",
       "      <td>0.0</td>\n",
       "      <td>0.0</td>\n",
       "      <td>0.0</td>\n",
       "      <td>0.0</td>\n",
       "      <td>0.0</td>\n",
       "      <td>0.0</td>\n",
       "      <td>0.0</td>\n",
       "      <td>0.0</td>\n",
       "    </tr>\n",
       "    <tr>\n",
       "      <th>...</th>\n",
       "      <td>...</td>\n",
       "      <td>...</td>\n",
       "      <td>...</td>\n",
       "      <td>...</td>\n",
       "      <td>...</td>\n",
       "      <td>...</td>\n",
       "      <td>...</td>\n",
       "      <td>...</td>\n",
       "      <td>...</td>\n",
       "      <td>...</td>\n",
       "      <td>...</td>\n",
       "      <td>...</td>\n",
       "      <td>...</td>\n",
       "      <td>...</td>\n",
       "      <td>...</td>\n",
       "      <td>...</td>\n",
       "      <td>...</td>\n",
       "      <td>...</td>\n",
       "      <td>...</td>\n",
       "      <td>...</td>\n",
       "      <td>...</td>\n",
       "    </tr>\n",
       "    <tr>\n",
       "      <th>5567</th>\n",
       "      <td>0.0</td>\n",
       "      <td>0.0</td>\n",
       "      <td>0.0</td>\n",
       "      <td>0.0</td>\n",
       "      <td>0.0</td>\n",
       "      <td>0.0</td>\n",
       "      <td>0.0</td>\n",
       "      <td>0.0</td>\n",
       "      <td>0.0</td>\n",
       "      <td>0.0</td>\n",
       "      <td>...</td>\n",
       "      <td>0.0</td>\n",
       "      <td>0.0</td>\n",
       "      <td>0.0</td>\n",
       "      <td>0.0</td>\n",
       "      <td>0.0</td>\n",
       "      <td>0.0</td>\n",
       "      <td>0.0</td>\n",
       "      <td>0.0</td>\n",
       "      <td>0.0</td>\n",
       "      <td>0.0</td>\n",
       "    </tr>\n",
       "    <tr>\n",
       "      <th>5568</th>\n",
       "      <td>0.0</td>\n",
       "      <td>0.0</td>\n",
       "      <td>0.0</td>\n",
       "      <td>0.0</td>\n",
       "      <td>0.0</td>\n",
       "      <td>0.0</td>\n",
       "      <td>0.0</td>\n",
       "      <td>0.0</td>\n",
       "      <td>0.0</td>\n",
       "      <td>0.0</td>\n",
       "      <td>...</td>\n",
       "      <td>0.0</td>\n",
       "      <td>0.0</td>\n",
       "      <td>0.0</td>\n",
       "      <td>0.0</td>\n",
       "      <td>0.0</td>\n",
       "      <td>0.0</td>\n",
       "      <td>0.0</td>\n",
       "      <td>1.0</td>\n",
       "      <td>0.0</td>\n",
       "      <td>0.0</td>\n",
       "    </tr>\n",
       "    <tr>\n",
       "      <th>5569</th>\n",
       "      <td>0.0</td>\n",
       "      <td>0.0</td>\n",
       "      <td>0.0</td>\n",
       "      <td>0.0</td>\n",
       "      <td>0.0</td>\n",
       "      <td>0.0</td>\n",
       "      <td>0.0</td>\n",
       "      <td>0.0</td>\n",
       "      <td>0.0</td>\n",
       "      <td>0.0</td>\n",
       "      <td>...</td>\n",
       "      <td>0.0</td>\n",
       "      <td>0.0</td>\n",
       "      <td>0.0</td>\n",
       "      <td>0.0</td>\n",
       "      <td>0.0</td>\n",
       "      <td>0.0</td>\n",
       "      <td>0.0</td>\n",
       "      <td>0.0</td>\n",
       "      <td>0.0</td>\n",
       "      <td>0.0</td>\n",
       "    </tr>\n",
       "    <tr>\n",
       "      <th>5570</th>\n",
       "      <td>0.0</td>\n",
       "      <td>0.0</td>\n",
       "      <td>0.0</td>\n",
       "      <td>0.0</td>\n",
       "      <td>0.0</td>\n",
       "      <td>0.0</td>\n",
       "      <td>0.0</td>\n",
       "      <td>0.0</td>\n",
       "      <td>0.0</td>\n",
       "      <td>0.0</td>\n",
       "      <td>...</td>\n",
       "      <td>0.0</td>\n",
       "      <td>0.0</td>\n",
       "      <td>0.0</td>\n",
       "      <td>0.0</td>\n",
       "      <td>0.0</td>\n",
       "      <td>0.0</td>\n",
       "      <td>0.0</td>\n",
       "      <td>0.0</td>\n",
       "      <td>0.0</td>\n",
       "      <td>0.0</td>\n",
       "    </tr>\n",
       "    <tr>\n",
       "      <th>5571</th>\n",
       "      <td>0.0</td>\n",
       "      <td>0.0</td>\n",
       "      <td>0.0</td>\n",
       "      <td>0.0</td>\n",
       "      <td>0.0</td>\n",
       "      <td>0.0</td>\n",
       "      <td>0.0</td>\n",
       "      <td>0.0</td>\n",
       "      <td>0.0</td>\n",
       "      <td>0.0</td>\n",
       "      <td>...</td>\n",
       "      <td>0.0</td>\n",
       "      <td>0.0</td>\n",
       "      <td>0.0</td>\n",
       "      <td>0.0</td>\n",
       "      <td>0.0</td>\n",
       "      <td>0.0</td>\n",
       "      <td>0.0</td>\n",
       "      <td>0.0</td>\n",
       "      <td>0.0</td>\n",
       "      <td>0.0</td>\n",
       "    </tr>\n",
       "  </tbody>\n",
       "</table>\n",
       "<p>5572 rows × 8753 columns</p>\n",
       "</div>"
      ],
      "text/plain": [
       "        0   00  000  000pes  008704050406  0089  0121  01223585236  \\\n",
       "0     0.0  0.0  0.0     0.0           0.0   0.0   0.0          0.0   \n",
       "1     0.0  0.0  0.0     0.0           0.0   0.0   0.0          0.0   \n",
       "2     0.0  0.0  0.0     0.0           0.0   0.0   0.0          0.0   \n",
       "3     0.0  0.0  0.0     0.0           0.0   0.0   0.0          0.0   \n",
       "4     0.0  0.0  0.0     0.0           0.0   0.0   0.0          0.0   \n",
       "...   ...  ...  ...     ...           ...   ...   ...          ...   \n",
       "5567  0.0  0.0  0.0     0.0           0.0   0.0   0.0          0.0   \n",
       "5568  0.0  0.0  0.0     0.0           0.0   0.0   0.0          0.0   \n",
       "5569  0.0  0.0  0.0     0.0           0.0   0.0   0.0          0.0   \n",
       "5570  0.0  0.0  0.0     0.0           0.0   0.0   0.0          0.0   \n",
       "5571  0.0  0.0  0.0     0.0           0.0   0.0   0.0          0.0   \n",
       "\n",
       "      01223585334  0125698789  ...  zogtorius  zoom  zouk  zyada   èn    é  \\\n",
       "0             0.0         0.0  ...        0.0   0.0   0.0    0.0  0.0  0.0   \n",
       "1             0.0         0.0  ...        0.0   0.0   0.0    0.0  0.0  0.0   \n",
       "2             0.0         0.0  ...        0.0   0.0   0.0    0.0  0.0  0.0   \n",
       "3             0.0         0.0  ...        0.0   0.0   0.0    0.0  0.0  0.0   \n",
       "4             0.0         0.0  ...        0.0   0.0   0.0    0.0  0.0  0.0   \n",
       "...           ...         ...  ...        ...   ...   ...    ...  ...  ...   \n",
       "5567          0.0         0.0  ...        0.0   0.0   0.0    0.0  0.0  0.0   \n",
       "5568          0.0         0.0  ...        0.0   0.0   0.0    0.0  0.0  0.0   \n",
       "5569          0.0         0.0  ...        0.0   0.0   0.0    0.0  0.0  0.0   \n",
       "5570          0.0         0.0  ...        0.0   0.0   0.0    0.0  0.0  0.0   \n",
       "5571          0.0         0.0  ...        0.0   0.0   0.0    0.0  0.0  0.0   \n",
       "\n",
       "       ú1    ü  〨ud    鈥  \n",
       "0     0.0  0.0  0.0  0.0  \n",
       "1     0.0  0.0  0.0  0.0  \n",
       "2     0.0  0.0  0.0  0.0  \n",
       "3     0.0  0.0  0.0  0.0  \n",
       "4     0.0  0.0  0.0  0.0  \n",
       "...   ...  ...  ...  ...  \n",
       "5567  0.0  0.0  0.0  0.0  \n",
       "5568  0.0  1.0  0.0  0.0  \n",
       "5569  0.0  0.0  0.0  0.0  \n",
       "5570  0.0  0.0  0.0  0.0  \n",
       "5571  0.0  0.0  0.0  0.0  \n",
       "\n",
       "[5572 rows x 8753 columns]"
      ]
     },
     "execution_count": 80,
     "metadata": {},
     "output_type": "execute_result"
    }
   ],
   "source": [
    "#checking the count_unique_df \n",
    "count_unique_df"
   ]
  },
  {
   "cell_type": "markdown",
   "id": "c0b52ff7",
   "metadata": {},
   "source": [
    "As we can see above, there are around 5000 rows based on the length of our messages, and there are about 8000 unique words that are sorted alphabetically, starting from 0 as the first word."
   ]
  },
  {
   "cell_type": "code",
   "execution_count": 81,
   "id": "b70d9a7c",
   "metadata": {},
   "outputs": [
    {
     "data": {
      "text/plain": [
       "0                 4.0\n",
       "00               10.0\n",
       "000              29.0\n",
       "000pes            1.0\n",
       "008704050406      2.0\n",
       "                ...  \n",
       "é                 4.0\n",
       "ú1                1.0\n",
       "ü               173.0\n",
       "〨ud               1.0\n",
       "鈥                 1.0\n",
       "Length: 8753, dtype: float64"
      ]
     },
     "execution_count": 81,
     "metadata": {},
     "output_type": "execute_result"
    }
   ],
   "source": [
    "#view the sum of each unique word for all messages, and get a feel of the data\n",
    "count_unique_df.sum()"
   ]
  },
  {
   "cell_type": "markdown",
   "id": "80292000",
   "metadata": {},
   "source": [
    "# Spam Prediction Question 1 , Problem Refinement Question 1"
   ]
  },
  {
   "cell_type": "code",
   "execution_count": 82,
   "id": "834f53d9",
   "metadata": {},
   "outputs": [
    {
     "name": "stdout",
     "output_type": "stream",
     "text": [
      "Sum of spam and not spam prior probabilities: 1.0\n",
      "Sum of all the conditional word probabilities for spam: 0.9999999999999942\n",
      "Sum of all the conditional word probabilities for not_spam: 0.9999999999999541\n"
     ]
    }
   ],
   "source": [
    "#Train\n",
    "#Question 1. compute P(y = 1), P(y = 0), P(xi|y = 0), and P(xi|y = 1)) where xi represents the i-th unique word:\n",
    "def train(Y_train, count_unique_df, smoothing = False, alpha = 1):\n",
    "    \n",
    "    Y = pd.DataFrame()\n",
    "    Y['Label'] = Y_train\n",
    "\n",
    "    #calculate prior probabilities\n",
    "    spam_prob =0\n",
    "    not_spam_prob = 0\n",
    "\n",
    "    #calculate the total number of spam and ham messages in the training labels\n",
    "    spam_count = 0\n",
    "    not_spam_count = 0\n",
    "    total_count = Y.shape[0]\n",
    "    for m in Y['Label']:\n",
    "        if m == 1:\n",
    "            spam_count += 1\n",
    "        elif m == 0:\n",
    "            not_spam_count += 1\n",
    "    #P(y = 1):\n",
    "    spam_prob = spam_count/total_count\n",
    "    #P(y = 0):\n",
    "    not_spam_prob = not_spam_count/total_count\n",
    "    # checking if we calculated the probabilites correctly, so we sum the spam and not spam probabilities and they\n",
    "    # become 1\n",
    "    print('Sum of spam and not spam prior probabilities:', spam_prob+not_spam_prob)\n",
    "\n",
    "\n",
    "    #Calculate the conditional probabilities for each unique word.\n",
    "    spam_word_probs = {}\n",
    "    not_spam_word_probs = {}\n",
    "\n",
    "    #First Go Thorugh Spam Emails and get the count of each word in the dictionary\n",
    "    spam_counts = count_unique_df[Y['Label'] == 1]\n",
    "    for i in spam_counts:\n",
    "        spam_word_probs[i] = spam_counts[i].sum()\n",
    "    \n",
    "    not_spam_counts = count_unique_df[Y['Label'] == 0]\n",
    "    for i in not_spam_counts:\n",
    "        not_spam_word_probs[i] = not_spam_counts[i].sum()\n",
    "\n",
    "    #calculate the total spam and not_spam counts\n",
    "    total_spam_words = sum(spam_word_probs.values())\n",
    "    total_not_spam_words = sum(not_spam_word_probs.values())\n",
    "    unique_words_count = len(unique_words)\n",
    "    #As we can see the total spam probabilities and the total not spam probabilities round to 1\n",
    "    \n",
    "    #print(total_spam_words, total_not_spam_words, unique_words_count )\n",
    "\n",
    "    #Without Smoothing\n",
    "    if smoothing == False:\n",
    "        #P(xi|y = 1):\n",
    "        for i in spam_word_probs:\n",
    "            spam_word_probs[i] = spam_word_probs[i]/total_spam_words\n",
    "        #P(xi|y = 0):\n",
    "        for i in not_spam_word_probs:\n",
    "            not_spam_word_probs[i] = not_spam_word_probs[i]/total_not_spam_words\n",
    "            \n",
    "    #Problem Refinement\n",
    "    #Laplace Smoothing - #alpha = 1\n",
    "    #Question 1\n",
    "    elif smoothing == True:\n",
    "        #P(xi|y = 1):\n",
    "        for i in spam_word_probs:\n",
    "            spam_word_probs[i] = (spam_word_probs[i]+alpha)/(total_spam_words+ (alpha*unique_words_count))\n",
    "        #P(xi|y = 0):\n",
    "        for i in not_spam_word_probs:\n",
    "            not_spam_word_probs[i] = (not_spam_word_probs[i]+alpha)/(total_not_spam_words+ (alpha*unique_words_count))\n",
    "\n",
    "    print('Sum of all the conditional word probabilities for spam:',sum(spam_word_probs.values()))\n",
    "    print('Sum of all the conditional word probabilities for not_spam:',sum(not_spam_word_probs.values()))\n",
    "    \n",
    "    return spam_word_probs, not_spam_word_probs, spam_prob, not_spam_prob\n",
    "\n",
    "#Sample Function Call\n",
    "spam_word_probs, not_spam_word_probs, spam_prob, not_spam_prob  = train(message_df['Label'] , count_unique_df)"
   ]
  },
  {
   "cell_type": "markdown",
   "id": "5ce5862f",
   "metadata": {},
   "source": [
    "In the Train function, we answered Question 1 in spam prediction and Question 1 in Problem Refinement, which asked us to compute all the probabilities again with Laplace Smoothing. We check the sum of all the spam and not_spam as well as the conditional probabilities for all the unique words given that a message is spam or not_spam to make sure that they add up to 1 and that they are actual probabilities. We set arguments called smoothing and alpha to implement the training with Laplace Smoothing."
   ]
  },
  {
   "cell_type": "code",
   "execution_count": 83,
   "id": "82dfcd26",
   "metadata": {},
   "outputs": [],
   "source": [
    "#spam_word_probs, not_spam_word_probs = train(message_df['Label'] , count_unique_df)"
   ]
  },
  {
   "cell_type": "code",
   "execution_count": 84,
   "id": "dd44938c",
   "metadata": {},
   "outputs": [],
   "source": [
    "#spam_word_probs, not_spam_word_probs = train(message_df['Label'] , count_unique_df, True)"
   ]
  },
  {
   "cell_type": "markdown",
   "id": "4fd342f0",
   "metadata": {},
   "source": [
    "# Spam Prediction Question 1, Prediction Assesment Question 2"
   ]
  },
  {
   "cell_type": "code",
   "execution_count": 85,
   "id": "2622e419",
   "metadata": {},
   "outputs": [],
   "source": [
    "def pred(sample_message, spam_word_probs, not_spam_word_probs, spam_prob, not_spam_prob):\n",
    "    sprob = 1\n",
    "    nsprob = 1\n",
    "    for w in sample_message.split():\n",
    "        if w in spam_word_probs.keys():\n",
    "            wsp = spam_word_probs[w] \n",
    "            wnsp = not_spam_word_probs[w]            \n",
    "            sprob *= wsp\n",
    "            nsprob *= wnsp\n",
    "            \n",
    "    sprob *= spam_prob\n",
    "    nsprob *= not_spam_prob\n",
    "\n",
    "    #Normalizing\n",
    "    sprob = sprob/(nsprob+sprob)\n",
    "    nsprob = nsprob/(nsprob+sprob)\n",
    "    \n",
    "    if sprob == 0 and nsprob ==0:\n",
    "        raise Exception('Zero Probs')\n",
    "        \n",
    "    return sprob, nsprob"
   ]
  },
  {
   "cell_type": "code",
   "execution_count": 86,
   "id": "ea0315f9",
   "metadata": {},
   "outputs": [
    {
     "data": {
      "text/plain": [
       "(0.0, 1.0)"
      ]
     },
     "execution_count": 86,
     "metadata": {},
     "output_type": "execute_result"
    }
   ],
   "source": [
    "# for i in range(500):\n",
    "#     print(pred(message_df['Message'][i], spam_word_probs, not_spam_word_probs, spam_prob, not_spam_prob))\n",
    "pred(message_df['Message'][100], spam_word_probs, not_spam_word_probs, spam_prob, not_spam_prob)    "
   ]
  },
  {
   "cell_type": "markdown",
   "id": "84cce8d7",
   "metadata": {},
   "source": [
    "In the above function, we calculated the conditional probability that a test message is spam or not.\n",
    "Because the Naive Bayes theorem assumes that each word occurring in a message is independent of the other words' occurrence in the message, we multiply all the words' probabilities in each message. As we can see the sum of the spam and not_spam probabilities is always equal to 1. Therefore, from now on we only output the spam probability and and the not_spam probability can be simply computed by subtracting it from 1."
   ]
  },
  {
   "cell_type": "code",
   "execution_count": 87,
   "id": "d71abe0e",
   "metadata": {},
   "outputs": [
    {
     "name": "stdout",
     "output_type": "stream",
     "text": [
      "[0.0, 0.0, 1.0, 0.0, 0.0, 1.0, 0.0, 0.0, 1.0, 1.0, 0.0, 1.0, 1.0, 0.0, 0.0, 1.0, 0.0, 0.0, 0.0, 1.0, 0.0, 0.0, 0.0, 0.0, 0.0, 0.0, 0.0, 0.0, 0.0, 0.0, 0.0, 0.0, 0.0, 0.0, 1.0, 0.0, 0.0, 0.0, 0.0, 0.0, 0.0, 0.0, 1.0, 0.0, 0.0, 0.7611440586103485, 0.0, 0.0, 0.0, 0.0, 0.0, 0.0, 0.0, 0.0, 1.0, 0.0, 1.0, 0.0, 0.0, 0.0, 0.0, 0.0, 0.0, 0.0, 0.0, 1.0, 0.0, 1.0, 1.0, 0.0, 0.0, 0.0, 0.0, 0.0, 0.047730743120042, 0.0, 0.0, 0.0, 0.0, 0.0, 0.0, 0.0, 1.4337143194344372e-07, 4.239323953884708e-05, 0.0, 0.0, 0.0, 0.0, 1.880504060320229e-08, 0.0, 0.0, 0.0, 0.0, 1.0, 0.0, 1.0, 0.0, 0.0, 0.0, 0.0, 0.0, 0.0, 0.0, 0.0, 0.0, 0.0, 0.0, 0.0, 0.0, 0.0, 0.0, 0.0, 0.0, 0.0, 1.0, 0.0, 0.0, 1.0, 0.0, 0.0, 1.0, 1.0, 0.0, 1.0, 0.0, 0.0, 0.00029269331034648534, 0.0, 0.0, 0.0, 1.0599336616561802e-06, 0.00011888451951374921, 0.0, 0.017872487703268432, 1.0, 1.0, 0.0, 0.0, 0.0, 1.0, 0.0, 1.3591975191980278e-05, 0.0, 0.0, 1.009015477081616e-05, 0.007445703825391543, 0.0, 1.0, 0.0, 0.0, 0.0, 0.0, 0.0, 0.0, 0.0, 0.0, 0.0, 0.0, 0.0, 1.0, 1.0, 0.0, 0.0, 0.0, 1.0, 1.0, 0.0, 1.0, 0.0, 0.0, 0.0, 0.0, 0.0, 0.0, 0.0, 0.0, 0.0, 0.0, 0.0, 0.0, 0.0, 0.0, 0.0, 0.0, 0.0, 0.0, 0.0, 0.0, 1.0, 0.0, 0.0, 1.0, 0.0, 0.0, 0.0, 0.0, 0.0, 0.0, 0.0, 0.0, 0.0, 0.0, 0.0, 0.0, 0.0, 0.0, 0.0, 0.0, 0.0, 0.0, 0.0, 0.0, 0.0, 0.0, 0.0, 0.0006699755690288595, 0.0, 0.0, 0.0, 0.0, 0.0, 0.0, 0.0, 0.0, 0.0, 1.0, 0.0, 1.0, 0.0, 0.0, 0.0, 0.0, 0.0, 0.0, 0.0, 1.0, 0.0, 0.0, 0.0, 0.0, 1.0, 0.0, 0.0, 0.0, 0.0, 0.0, 0.0, 0.0007197906061866869, 0.0, 0.0, 1.0, 0.0, 0.0, 0.0, 0.0, 0.0, 0.0, 0.0, 4.562444407096869e-05, 1.0, 0.0, 0.0, 0.0, 0.0, 1.0, 0.0, 0.0, 0.0, 1.0, 0.0, 1.0, 0.0, 0.0, 1.0, 0.0, 0.0, 0.0, 0.0, 0.0, 0.0, 0.0, 0.0, 0.0, 0.0, 0.0, 0.0, 0.0, 0.009973501106934984, 0.0, 0.0, 0.0, 0.0, 0.0, 0.0, 0.0, 0.0, 1.0, 0.0, 0.0, 0.00026476889996005767, 0.0, 0.0, 0.0, 0.0, 0.0, 1.0, 0.0, 0.0, 0.0, 1.0, 0.0, 0.0, 1.0, 0.0, 0.0, 4.195777495169059e-07, 0.0, 0.0, 0.0, 1.0, 0.0, 0.0, 0.0, 0.0, 0.0, 0.0, 0.7611440586103485, 0.0, 0.0, 0.0, 0.0, 0.0, 0.0, 1.0, 0.0, 1.0, 0.0, 0.0, 0.0, 0.0, 0.0, 0.0, 0.0, 0.0, 5.923544681880562e-05, 0.0, 0.0, 0.0, 0.0, 1.0, 0.0, 0.0, 0.0, 0.0, 0.0, 0.0, 0.0, 1.0, 1.0, 0.0, 0.0, 0.0, 0.0, 0.0, 0.0, 0.0, 0.0, 1.0, 1.0, 0.0, 0.0008579405263123479, 0.0, 0.0, 0.0, 0.0, 1.0, 0.0, 0.0, 0.0, 0.0, 0.0, 0.0, 0.0, 0.0, 0.0, 1.0, 0.0, 0.112369880129588, 0.0, 1.0, 0.0, 0.0, 0.0, 0.0, 0.0, 0.0, 0.0, 0.0, 0.0, 0.0, 0.0, 1.0, 0.0, 0.0, 0.0, 0.0, 0.0, 0.0, 0.0, 0.0, 0.0, 0.0, 0.0, 0.0, 0.0, 1.0, 0.0, 0.0, 1.0, 0.0, 1.0, 0.0, 1.0, 0.0, 1.0, 0.0, 0.0, 0.0, 0.0, 0.0, 0.0, 0.0, 0.0, 1.0, 0.0, 0.0, 0.0, 0.0, 0.0, 0.0, 7.49249143534831e-06, 0.0, 0.0, 0.0, 0.0, 0.0, 0.0, 0.0, 0.0, 0.0, 0.0, 0.0, 0.000855715999543803, 0.0, 0.0, 1.0, 0.0, 0.0, 0.0, 0.0, 0.0, 0.0, 0.0, 1.0, 0.0, 0.0, 0.0, 0.0, 0.0, 0.0, 0.0, 1.0, 0.0, 0.0, 1.0, 0.0, 0.0, 0.0, 0.0, 0.0, 0.0, 0.0, 0.0, 0.0, 0.0, 0.0, 0.0, 1.0, 0.0, 0.0, 0.0, 0.0, 1.0, 0.0, 0.0, 0.37835954864010396, 0.0, 0.0, 0.0, 0.0, 0.0, 0.0, 0.0, 0.0, 0.0, 1.0, 0.0, 0.0, 0.0, 0.0, 0.0, 0.0, 0.0, 0.0, 0.0, 1.0, 0.03448133191201784, 1.0, 1.0, 0.0, 0.0, 0.0, 0.0, 0.0, 0.0, 1.0, 0.0, 1.0, 0.0, 1.0, 0.0, 1.0, 0.0, 0.0, 2.526183802554833e-05, 0.0, 0.0, 0.0, 0.0, 0.0, 0.0, 1.0, 0.0, 0.0, 0.0, 0.0, 0.01223960764314159, 0.0, 0.0, 0.0, 0.0, 0.0, 0.0, 0.0, 0.0, 0.0, 0.0, 0.0, 0.0, 0.0, 0.0, 3.384675074466583e-05, 0.0, 0.0, 1.0, 0.0, 0.0, 0.0, 0.0, 0.0, 0.0, 0.0, 0.0, 0.0019242272034112624, 0.8457182850280367, 0.0, 1.0, 0.0, 0.0, 1.0, 0.0, 0.0, 0.0, 1.0, 0.0, 0.0, 0.0, 0.0, 0.0, 0.0, 0.0, 1.0, 1.0, 1.0, 0.0, 0.0, 4.4011386059623664e-05, 0.0, 1.0, 0.0, 0.0, 0.0, 0.0, 0.0, 0.0, 0.0, 0.000169809688639295, 1.0, 0.0, 0.0, 0.0, 1.0, 0.0, 0.0, 0.0, 0.0, 0.0, 0.0, 0.0, 0.0, 0.0, 0.0, 0.0, 0.0, 0.0, 0.0, 0.0, 0.0, 0.0, 1.0, 1.0, 3.26893017601451e-05, 0.012914247457870417, 3.4195538102541565e-07, 0.0, 1.0, 0.0, 0.0, 0.0, 0.0, 0.0, 0.0, 0.0, 0.0, 0.0, 0.0, 0.0, 0.0, 1.0, 0.0, 1.0, 0.0, 0.0, 0.0, 0.0, 0.0, 0.0, 0.0, 4.239323953884708e-05, 0.0, 1.0, 0.0, 0.0, 0.0, 0.0, 0.0, 0.0, 0.0, 0.0, 0.0, 0.028680954528140897, 0.0, 1.0, 1.0, 0.0, 0.0, 0.0, 0.0, 0.0, 0.0, 0.0, 0.0, 0.0, 0.0, 1.0, 0.0, 0.0, 0.0, 0.0, 0.0, 1.0, 0.0, 0.0, 0.0, 0.0, 0.0, 0.0, 0.0, 0.0, 0.0, 0.008603404528564765, 0.0, 0.0, 0.0, 0.0, 0.0, 0.0, 0.0, 0.0, 1.0, 1.0, 0.0, 0.0, 1.0, 0.0, 0.0, 1.3806030303075253e-07, 1.0, 0.0, 1.0, 0.0, 0.00012263829505344096, 0.0, 0.0, 0.0, 0.0, 0.0, 0.0, 0.0, 0.0, 0.0, 1.0, 0.0, 0.0, 0.0, 0.0, 0.0, 0.0, 1.0, 0.000942943619066834, 0.0, 4.627262351630835e-06, 0.0, 0.0, 0.0, 0.0, 0.0, 0.0, 1.0, 0.0, 0.0, 1.0, 1.0, 0.0, 0.0, 0.0, 0.0, 0.0, 0.0, 0.0, 0.0, 1.0, 0.0, 1.0, 0.0, 0.0, 1.0, 0.0, 0.0, 0.00026476889996005767, 0.0, 0.0, 0.0, 0.0, 0.0, 0.0, 0.0, 0.0, 0.0, 0.0, 0.0, 0.0, 0.0, 0.0, 1.0, 0.0, 0.0, 0.0, 1.0, 1.0, 0.0, 0.0, 0.0, 0.0, 0.0, 0.0, 0.0, 1.0, 0.0, 2.7474773696017457e-07, 0.0, 1.0, 0.0, 1.0, 1.0, 4.636938505664317e-06, 0.0, 0.0, 0.0, 0.0, 0.0, 0.0, 0.0, 1.0, 0.0, 1.0, 0.0, 0.0, 0.0, 0.0034984083038152314, 0.0, 0.0, 0.0, 1.0, 1.0, 0.0, 0.0, 0.0, 0.0, 0.0, 0.0, 1.0, 0.0, 1.0, 0.0, 0.0, 0.0, 1.0, 0.0, 1.0, 1.0, 0.0, 0.0, 0.0, 1.0, 2.3665615173549894e-06, 0.0, 0.0, 0.0, 0.0, 1.0, 0.0, 0.0, 0.0, 0.0, 0.0, 1.0, 0.009887189747404438, 0.0, 0.0, 0.0, 0.0, 0.0, 0.0, 0.0, 0.0, 1.0, 0.0, 1.0, 1.0, 1.0, 0.0, 0.0, 3.534792244543786e-06, 0.0, 0.0, 1.0, 0.0, 1.0, 1.0, 1.0, 1.0, 0.0, 0.0, 0.0, 0.0, 0.0, 0.0, 0.0, 0.0, 0.0, 0.0, 0.0, 0.0, 0.0, 0.0, 0.0, 0.0, 0.0, 0.0, 1.0, 0.0, 0.0, 0.0, 0.0, 0.0, 0.0, 1.0, 0.0, 0.0, 1.0, 0.0, 0.0, 0.0, 0.0, 0.0, 0.0, 0.0, 0.0, 0.0, 2.703629193352563e-06, 0.0, 0.0, 0.0, 0.0, 0.0, 0.0, 0.0, 0.0, 0.0, 1.0, 0.0, 0.0, 0.0, 0.0, 1.0, 0.0, 0.0, 0.0, 1.0, 0.0, 0.0, 0.0, 1.0, 0.0, 0.0, 0.0, 1.0, 0.0, 0.0, 5.706204794179496e-06, 0.0, 0.0, 0.0, 0.0, 1.0, 0.0, 0.0, 0.0, 0.0, 0.009821569635068712, 0.0, 1.0, 0.0, 0.0, 0.0, 0.0, 0.0, 0.0, 0.0, 0.0, 0.0, 0.0, 0.0, 0.29202714085283665, 0.0, 0.0, 0.0, 0.0, 0.0, 0.0, 0.0, 0.0, 1.0, 0.0, 0.0, 0.0, 0.0, 0.0, 0.0, 0.0, 0.7503961560398681, 0.0, 0.0, 0.0, 3.2550402009521265e-05, 0.0, 0.0, 0.0, 0.0, 0.0, 0.0, 1.0, 0.0, 0.0, 0.0, 0.0, 1.0, 0.0, 0.0, 0.0, 0.0, 0.0, 0.0, 0.0, 0.0, 0.0, 1.0, 0.0, 0.0, 5.2025891953651684e-06, 0.0, 1.0, 0.00386690471382964, 0.0, 0.0, 0.0, 0.0, 0.0, 0.0, 1.0396353102022675e-05, 0.0, 0.0, 0.0006284718483948308, 0.0, 0.0, 0.0, 0.0, 0.0, 0.0, 0.0, 0.0, 0.0, 0.0, 0.0, 1.0, 0.000329978053699154, 0.0, 1.0, 0.0, 1.0, 0.0, 0.0, 0.0, 0.0, 0.0, 0.0011080477950825424, 0.0, 0.0, 0.0, 1.0, 0.0, 0.0, 0.0, 1.0, 0.0, 0.0, 0.0, 0.0, 1.0, 0.0, 0.0, 1.0, 1.0, 0.0, 0.0, 0.0, 0.0, 0.0, 0.0, 0.0, 0.0, 0.8829468712668406, 0.0845881759026133, 0.0, nan, 0.0, 0.0, 0.00021094722837243954, 1.0, 0.0, 1.0, 0.0, 0.0, 0.0, 0.0, 0.0, 1.0, 0.0, 0.0, 0.0, 0.0, 0.0, 0.0, 0.0, 1.0, 0.0, 0.0, 0.0, 0.0, 0.0, 0.0001504604868549023, 0.0, 0.0, 0.0, 0.0, 0.0, 0.0, 1.0, 0.0, 1.0, 0.0, 1.0, 0.0, 0.0, 0.0, 1.0, 0.0, 0.0, 1.0, 0.0, 0.0, 0.0, 0.0, 0.0, 0.0, 0.0, 1.0, 0.0, 0.0, 0.0, 0.0, 1.0, 0.0, 0.0, 0.0, 1.0, 0.001962658440318264, 0.0, 0.0, 0.0, 0.0, 0.0, 0.0, 1.0, 0.0, 0.0, 0.0, 0.0, 0.0, 0.0, 0.0, 5.739077808636962e-06, 1.0, 0.0, 0.0, 0.0, 0.0, 0.0, 0.0, 0.0, 0.0, 1.0, 0.0, 0.0, 0.0, 0.0, 0.0, 0.0, 0.0, 0.00038029018354007965, 0.0, 0.0, 0.0, 0.0, 0.0, 0.0, 0.0, 0.0, 0.0, 0.0, 0.014531955050947355, 0.0, 0.0, 1.0, 0.002206285202175834, 1.0, 0.0, 0.0, 0.0, 0.0, 0.0, 0.0, 0.0, 0.0, 1.0, 0.0, 1.0, 0.0, 0.0, 0.0, 0.0, 0.0, 0.0, 0.0, 0.0, 0.0, 1.0, 0.0, 0.0, 0.0, 1.0, 0.0, 0.0, 0.0, 1.0, 0.0, 1.0, 0.0, 1.0, 0.0, 0.0, 0.0, 0.0, 0.0, 0.0, 0.0, 6.253664000820534e-05, 0.0, 0.0, 0.0, 0.0, 0.0, 0.0, 0.0, 0.0, 0.0, 0.0, 0.0, 0.0, 0.0, 0.0, 1.0, 0.0, 0.0, 0.0, 0.0, 0.0, 0.0, 0.0, 0.0, 0.0, 0.0, 1.0, 0.0, 0.0, 0.0, 0.0, 0.0, 1.0, 0.0, 0.0, 0.0, 0.009973501106934984, 1.0, 0.0, 0.0, 0.0, 0.0, 0.0, 0.0, 0.0, 0.0, 0.0, 0.00018950175748550646, 0.0, 0.0, 0.0, 0.0, 0.00038847755702271113, 0.0, 0.0, 0.0, 0.0, 0.0, 0.0, 0.0, 0.0, 0.0, 0.0, 0.0, 0.0, 0.0, 0.0, 0.00026476889996005767, 0.0, 0.0, 1.0, 1.0, 0.0, 0.0, 0.0, 0.0, 0.0, 0.0, 0.0, 0.0, 0.0, 1.0, 0.009973501106934984, 6.292631454354103e-05, 0.0, 0.0, 0.0003809105175842284, 0.0, 0.0, 0.0, 0.0, 1.0, 0.0, 0.0, 0.0, 0.0, 0.0, 0.0, 0.0, 0.0, 0.0, 0.0, 0.0, 0.0, 0.0, 0.0, 0.0, 0.0, 0.0, 0.0, 0.0, 0.0, 0.0, 1.0, 0.0, 0.0, 0.0, 0.0, 0.0, 0.0, 0.0, 0.0, 0.0, 0.0, 0.0, 0.0, 0.0, 0.0, 0.0, 1.0, 0.0, 0.0, 0.0, 0.0, 0.0, 0.0, 0.0, 1.0, 1.0, 0.0, 0.0, 1.0, 0.0, 1.0, 0.0, 0.0, 0.0, 0.0, 0.0, 0.0, 0.0, 0.0, 0.0, 0.0, 0.0, 0.0, 0.0, 0.00033109465815867934, 0.0, 0.0, 0.0, 0.0, 0.0, 0.0, 0.0, 0.0, 0.0, 0.0, 0.0, 0.00042165465733178453, 1.0, 0.0, 0.0, 1.4253058697124203e-05, 0.0, 0.0, 0.0, 1.0, 0.0, 0.0, 0.0, 0.0, 0.0, 0.0, 0.0, 0.00500695070038959, 1.0, 0.0, 0.0, 0.0, 0.009973501106934984, 0.0, 0.0, 1.0, 0.0, 0.0, 0.0, 0.0, 0.0, 0.0, 0.0, 0.0, 0.0, 0.0, 0.0, 0.0, 0.0, 1.0, 0.0, 0.0, 0.0, 0.0, 1.0, 0.0, 0.0, 0.0, 0.0, 0.0, 0.0, 1.0, 0.0, 1.0, 0.0, 1.0, 0.0, 0.0, 1.0, 0.0, 0.0, 1.0, 0.0, 0.0, 1.0, 0.0, 0.0, 0.0, 0.0, 0.0, 0.0, 0.0, 0.0, 0.0, 0.0, 0.0, 0.0, 0.0, 0.009973501106934984, 0.0, 0.0, 0.0, 0.0, 0.0, 0.0, 0.0, 0.0, 1.0, 0.0, 0.0, 0.0, 0.0, 0.0, 0.0, 0.0, 1.0, 0.0, 1.0, 0.0, 0.0, 0.0, 0.0, 0.9999998668028507, 0.0, 0.0, 0.0, 0.0, 0.0, 0.0, 0.0, 0.008863714538102654, 0.0, 0.0, 1.0, 0.0, 0.0, 1.0, 0.0, 0.0, 0.0, 0.0, 0.0, 0.0, 0.0, 0.0, 0.0, 0.0, 0.0, 0.0, 0.0, 0.0, 1.0, 0.0, 0.0, 0.0, 0.0, 0.0, 0.0, 0.0, 1.0, 0.0, 0.0, 0.0, 0.0, 1.2973285465329513e-06, 0.0, 0.0, 0.0, 0.003380476234722446, 0.0, 0.0, 0.0, 0.0, 0.0, 0.0, 0.0, 0.0, 0.0, 0.0, 0.0, 0.0, 0.0, 2.67501350636864e-07, 0.0, 0.0, 0.0, 0.0, 0.0, 1.0, 1.0, 0.0, 0.0, 0.0, 0.0, 0.0, 0.0, 0.0, 0.0, 0.0, 0.0, 0.0, 0.0, 0.0, 0.0, 0.0, 0.0, 0.0, 0.0, 0.0, 1.0, 0.0, 0.0, 1.0, 1.0, 0.0, 0.0, 0.0006809443765902356, 0.0, 0.0, 0.0, 0.0, 0.0, 0.0, 0.0, 0.0, 0.001295689983095254, 0.0, 0.0, 1.0, 0.0, 0.0, 0.0, 0.0, 0.0, 0.0, 0.0, 0.0, 0.0, 1.0, 0.0, 1.0, 0.0, 0.00013216749812990433, 1.0, 0.0, 0.0, 0.0, 0.0, 0.0, 9.684029327570875e-06, 1.0, 0.0, 0.0, 1.0, 0.0, 1.0, 0.0, 0.0, 0.0, 0.0, 0.0, 0.0, 0.0, 0.0, 0.0, 0.0, 0.0, 0.0, 1.0, 0.0, 0.0, 0.0, 0.0, 0.0, 1.0, 3.156610328948138e-05, 0.0, 0.0, 1.0, 0.0, 0.0, 0.0, 0.0, 0.0, 0.0, 0.0, 0.0, 0.5333677459314164, 1.0, 1.0, 0.0, 0.0, 0.0, 0.0, 0.0, 0.0, 0.0, 0.0, 0.0, 0.0, 0.0, 0.0, 1.0, 1.0, 0.0, 0.0, 1.0, 0.0, 0.0, 0.0, 0.0, 0.0, 0.0, 0.0, 1.0, 0.009973501106934984, 0.0, 0.0, 0.0, 0.0, 0.0, 0.0, 0.0, 0.0, 0.0, 0.0, 0.0, 0.0, 0.0, 1.0, 7.85897062740715e-06, 0.0, 0.0, 1.0, 0.0, 0.0, 0.0, 0.0, 0.0, 0.0, 0.0, 0.0, 0.0, 0.0, 0.0, 0.0, 0.0, 0.0, 0.0, 1.0, 0.0, 0.0, 0.0, 0.00026476889996005767, 0.0, 0.0, 1.0, 0.0, 0.0, 0.0, 1.0, 0.0, 0.0, 0.0, 0.0, 0.0, 0.0, 0.0, 0.007511995192347809, 0.0, 0.0049111854457188, 0.0, 0.0, 3.05481923896082e-08, 0.0005600607621263706, 0.0, 0.0, 0.0, 0.0, 0.0, 1.0, 0.0, 1.0, 0.00041649591032950786, 0.0, 0.0, 0.0, 0.0, 0.0, 0.0, 0.0, 0.0, 1.0, 1.0, 0.0, 1.0, 1.0, 0.0, 0.0, 0.0, 0.0, 0.0, 0.0, 0.0, 0.0, 0.0, 0.0, 0.0, 1.0, 0.0, 0.0, 0.0, 0.0, 0.0, 3.449702791155837e-07, 0.0, 0.0, 0.0, 0.0, 2.3787314994644576e-06, 0.0, 0.0, 1.0, 0.0, 0.0, 0.0, 0.0, 0.0, 0.0, 0.014734392767451721, 0.0, 0.0, 0.0, 0.0, 0.0, 0.0, 0.0, 0.0, 0.0, 0.0, 0.0014674582319450695, 0.0, 0.0, 0.0, 0.0, 1.0, 1.444042392889986e-06, 0.0, 0.0, 1.5717439444200564e-05, 0.0, 0.0, 0.04776907859356112, 0.0, 1.0, 0.0, 0.0, 0.0, 0.0, 0.0, 0.0, 0.0, 0.0, 1.0, 0.0, 0.0, 0.0, 0.0, 1.0, 0.0, 2.604794831022909e-08, 0.0, 0.0, 0.0, 0.009462384097238393, 0.0, 0.0, 0.0, nan, 0.0, 0.0, 0.0, 0.0, 0.0, 0.0, 0.0, 0.0, 0.0, 0.0, 1.0, 1.0, 1.0, 0.0, 0.0, 0.0, 1.0, 0.0, 0.0, 0.0004505954931378632, 0.0, 0.0, 0.0, 1.0, 1.0, 0.0, 0.0, 0.0, 0.0, 1.0, 0.0, 1.0, 0.0, 0.0, 0.0, 9.474248931402271e-05, 0.0, 0.0, 0.0, 0.0, 1.0, 0.0, 0.0, 0.0, 0.0, 0.0, 0.0, 0.0, 0.0, 0.0, 0.0440573317039717, 1.0, 0.0, 0.0, 0.0, 0.0, 0.0, 0.0, 0.0, 0.0, 3.837382287254076e-08, 0.009973501106934984, 0.0, 0.0, 0.0, 1.0, 1.0, 0.0, 0.0, 0.0, 0.0, 0.0, 0.0, 0.0, 0.0, 0.0, 1.0, 0.0, 1.0, 0.0, 0.0, 0.0, 0.0, 0.0, 0.0, 0.00026476889996005767, 0.0, 0.0, 0.0, 0.0, 0.0, 0.0, 0.0, 0.0, 0.0, 0.0, 0.0, 1.0, 0.0, 1.0, 0.0, 0.0, 0.0, 0.0, 0.0, 0.0, 1.0, 0.0, 0.0025589023815754054, 0.0, 0.0, 0.0, 0.0, 0.0, 1.0, 0.0, 0.0, 0.0, 0.0, 0.0, 0.0, 1.0, 0.0, 0.0, 0.7611440586103485, 0.0, 0.0, 0.0, 0.0, 1.0, 0.0, 0.0, 0.0, 0.0, 0.0, 0.0, 0.0, 0.0, 0.0, 1.0, 0.0, 0.0, 0.0, 0.0, 0.0, 0.0, 0.0, 0.0, 0.0, 0.0, 1.0, 0.0, 0.0, 0.0, 0.0, 0.0, 0.0, 0.0, 0.0, 1.0, 0.0, 0.0, 0.0, 0.0, 0.0, 0.0, 0.0, 0.0, 0.0, 0.0, 0.0, 0.0, 0.0, 0.0, 8.428594731027913e-05, 0.0, 0.0, 0.0, 0.0, 0.0, 1.0, 0.001997247680761922, 0.0, 0.0, 0.0, 0.0, 0.0, 0.0, 0.0, 1.0, 0.0, 0.0, 0.0, 0.0, 0.0, 0.0, 0.0, 0.0, 0.0, 0.0, 1.0, 0.0, 0.0, 0.0, 0.0, 0.0, 1.0, 1.0, 0.0, 0.0, 1.0, 0.0, 0.0, 0.0, 0.0, 1.0, 0.0, 0.0, 0.0, 0.0, 0.0, 0.0, 0.0, 0.0, 0.0, 1.0, 0.0, 0.0, 0.0, 0.0, 1.0, 1.0, 0.0, 0.0008522416745741673, 0.0, 0.0, 1.0, 0.0, 0.0, 0.0, 0.0, 0.0, 0.0, 1.5270341246270907e-05, 0.0, 1.0, 0.0, 0.0, 0.0, 1.0, 0.0, 1.0, 0.0, 0.0, 0.0, 1.0, 0.0, 0.0, 0.0, 0.0, 1.0, 0.0, 0.0, 0.0, 0.0, 0.0, 0.0, 0.0, 0.0, 1.0, 0.0, 0.0, 0.0, 7.448064620797986e-05, 0.0, 0.0, 0.0, 0.0, 0.0, 0.0, 0.0, 1.0, 1.0, 0.0, 0.0, 0.0, 0.0, 0.0, 0.0, 0.0, 0.0, 9.400374246439741e-07, 0.0, 0.0, nan, 0.0, 1.0, 0.0, 0.0, 0.0, 0.0, 0.0, 0.0, 8.188179378486284e-06, 0.0, 0.0, 1.0, 0.0, 0.0, 0.0, 0.0, 0.0, 0.0011080477950825424, 0.0, 0.0, 0.0, 0.0, 0.0, 0.009973501106934984, 0.0, 0.0, 0.0, 0.0, 0.0, 0.0, 1.0, 0.0, 0.0, 0.0, 0.0, 0.0, 0.0005529228523598639, 0.0, 0.0, 0.0, 3.8707337556823795e-05, 0.0, 0.0, 0.0, 0.0, 0.0, 0.0, 0.0, 1.0, 0.0, 1.0, 0.0, 0.0, 0.0, 0.0, 0.0, 0.0, 0.0, 0.0, 0.0, 0.0, 1.0, 0.0, 0.0, 0.0, 1.0, 0.0, 0.0, 0.0, 0.0, 0.0, 0.0, 0.0, 0.0, 0.0, 0.0, 0.0, 0.0, 0.0, 0.0, 0.0, 0.0, 3.146653732402021e-07, 0.0, 0.0, 0.0, 0.0, 0.0, 1.0, 1.0, 0.0, 1.0, 0.0, 0.0, 0.0, 0.0, 0.0, 0.0, 0.0, 0.0, 0.0, 0.0, 1.0, 0.0, 0.0, 1.0, 0.0, 0.00026476889996005767, 1.0, 0.0, 1.0, 0.0, 0.0, 0.0, 0.0, 0.0, 0.0, 0.0, 0.0, 0.0, 0.0, 0.0, 0.0, 0.0, 0.0, 0.0, 0.0, 0.0, 0.0, 0.0, 0.49639338317332254, 1.0, 0.0, 0.0, 0.0013896976838409685, 0.0, 1.0, 0.0, 1.0, 0.0, 0.0, 1.0, 0.0, 0.0, 0.0, 0.0, 0.0, 0.0, 0.0, 1.0, 1.0, 0.0, 1.0, 1.0, 1.0, 0.00020914957079316507, 0.0, 0.0, 0.0, 0.0, 0.0, 0.0, 0.0, 0.009973501106934984, 0.0, 0.0, 0.0, 0.0, 0.0, 1.0, 0.0, 0.0, 0.0, 4.459428170319851e-05, 0.0, 0.0, 0.0, 0.0, 0.0, 0.0, 0.0, 0.0, 0.0, 0.0, 1.0, 0.0, 0.0, 0.0, 0.0, 0.0, 0.0, 0.0, 4.239323953884708e-05, 1.0, 0.0, 1.0, 0.0, 0.0, 0.0, 0.0, 0.0, 1.0, 0.0, 6.266078287397669e-06, 0.0, 1.0, 0.0, 0.0, 1.0, 0.0, 1.3528643240554798e-05, nan, 0.0, 0.0, 0.0, 1.0, 0.0, 0.0, 0.0, 1.0, 0.0, 0.0, 0.0, 0.0, 0.0, 0.0, 0.0, 1.0, 0.0, 0.0, 0.0, 0.0, 0.0, 0.0, 0.0, 0.0, 0.0, 3.8004004461321903e-06, 0.0, 0.0, 0.0, 0.0, 0.0, 1.0, 0.0, 0.0, 0.0, 0.0, 0.0, 0.0, 2.129966254644222e-06, 0.0, 0.0, 0.0, 1.0, 0.0, 0.0, 0.0, 0.0, 0.0, 0.0, 1.0, 0.0, 0.0, 0.0, 0.0, 0.0, 0.0, 1.0, 0.0, 0.0, 1.0, 0.01701848757324131, 0.0, 0.0, nan, 0.0, 0.0, 0.0, 1.0, 0.0, 0.0, 0.0, 0.0, 0.0, 0.0, 0.0, 0.0, 0.0, 0.0, 0.0, 0.0, 9.059544618698315e-05, 0.0, 0.0, 0.0, 0.0, 0.0, 0.0, 0.0, 4.478601233245577e-08, 0.0, 3.493041991733425e-07, 0.0, 0.0, 0.0, 0.0, 0.0, 0.0, 0.0, 0.0, 0.00010839369370000639, 0.0, 0.0, 1.0, 0.0, 0.0, 0.0, 0.0, 0.0, 0.0, 1.0, 1.0, 0.0, 0.0, 0.0, 0.0, 0.0, 0.0, 0.0, 0.0, 0.0, 0.0, 0.0, 0.0, 0.0, 0.0, 1.0, 0.0, 0.0, 0.0, 0.0, 0.0, 0.0, 0.0, 0.0, 0.0, 0.0, 0.0, 0.0, 0.009973501106934984, 0.0, 0.0, 0.0, 0.0, 1.0, 0.0, 0.0, 0.0, 0.0, 0.0, 0.0, 0.0, 0.0, 0.0, 0.0, 1.0, 0.0, 0.0, 0.0, 0.0, 0.0, 0.0, 0.0, 0.0, 0.0, 3.5226787096653165e-05, 0.0, 0.0002870692851877043, 0.0, 0.0, 0.0, 0.0, 0.0, 0.0, 0.0, 0.0, 0.0, 0.0, 1.0, 0.0, 0.0, 0.0, 0.0, 0.0, 0.0, 0.0, 1.0, 0.0, 1.0, 0.0, 0.0, 0.0, 0.0, 0.0, 0.0, 0.0, 0.0, 0.0, 0.0, 0.0, 0.0, 0.0, 0.0, 0.0, 1.0, 1.0, 0.0, 0.0, 0.0, 0.0, 0.0, 1.0, 0.0, 1.0, 0.0, 5.077744648665286e-06, 0.0, 0.0, 0.0, 0.0, 1.0, 0.0, 0.0, 0.0, 0.0, 0.0, 1.0, 0.0, 0.0, 0.0, 0.0, 0.0, 0.0, 0.0, 0.0, 0.0, 0.0, 0.0, 0.0, 0.0, 0.0, 0.0, 1.0, 0.0, 0.0, 0.0, 0.0, 0.0, 0.00026476889996005767, 0.0, 1.0, 0.0004957928494727333, 0.0, 0.0, 0.0, 0.0, 1.0, 0.0, 0.0, 0.0, 0.0, 1.3609897728642963e-06, 1.0, 0.0, 0.0, 0.0, 0.0, 0.0, 0.0, 0.0, 0.0, 0.0, 1.0, 0.0, 0.0, 0.0014082943748410803, 0.0, 0.0, 0.0, 0.0, 0.0, 0.0, 0.0, 0.0, 0.0, 0.0, 0.0, 0.0, 0.0, 0.0, 0.009973501106934984, 0.0, 0.0, 3.522021456053687e-09, 1.0, 0.0, 0.0, 0.0, 0.0, 1.0, 1.0, 0.0, 0.0, 0.0, 0.0, 0.0, 0.0, 0.0, 0.0, 0.0, 1.0, 0.0, 0.0, 0.0, 0.0, 0.0, 1.0, 0.0, 0.0, 0.0, 0.0, 1.0, 0.0, 1.0, 0.0, 0.0, 0.0, 0.0, 0.0, 1.0, 0.0, 0.0, 0.0, 0.0, 0.0, 1.0, 0.0, 0.0, 1.0, 0.0, 0.0, 1.0, 0.0, 0.0, 0.0, 0.0, 0.0, 0.0, 0.0, 1.0, 0.0, 0.0, 0.0, 0.0, 0.0, 0.0, 0.0, 0.0, 0.0, 1.0, 1.0, 0.0, 0.0, 0.0, 0.0, 0.0, 0.0, 0.0, 0.0, 0.0, 0.0, 0.017107753104678127, 1.0, 0.0, 0.0, 0.0, 0.0, 0.0, 0.0, 0.0, 0.0, 0.0, 0.0, 0.0, 0.0, 0.0, 0.0, 0.0, 0.0, 0.0, 0.0, 0.0, 0.0, 0.0, 0.0, 0.0, 0.0, 1.0, 0.0, 1.574412321388296e-05, 1.0, 0.0, 0.0, 0.06379222354572518, 1.0, 0.0, 0.0, 0.08455111134048636, 0.0, 1.0, 0.0, 0.0, 0.0, 0.0, 0.0, 0.0, 0.04354759827852652, 0.0, 0.0, 0.0, 0.0, 1.0, 0.0, 0.0, 0.0, 0.0, 0.0, 0.0, 0.0, 0.0, 0.0, 0.0, 0.0, 0.0, 1.0, 0.0, 0.0, 0.011101627164138938, 1.0, 0.0, 0.0, 0.0, 0.0, 0.0, 0.0, 0.0, 0.0, 0.0, 1.0, 0.0, 0.0, 1.0, 0.0, 1.0, 0.0, 0.0, 1.0, 0.0, 0.0, 0.0, 1.0, 0.0, 0.0, 0.0, 1.0, 0.0, 0.0, 0.0, 0.01859279611849694, 0.0, 0.0, 0.0, 0.0, 0.0, 0.0, 0.0, 0.0, 0.0, 1.0, nan, 1.0, 0.0, 0.0, 0.0, 0.0, 0.0, 0.0, 0.0, 0.0, 0.0, 0.0, 0.0, 0.0, 1.0, 0.0, 0.0, 0.0, 0.0, 0.0, 0.0, 0.0, 1.0, 0.0, 0.012283132225328912, 0.0, 0.0, 0.0, 0.0, 0.0, 1.0, 0.0, 1.0, 0.0, 0.0, 0.0, 0.0, 0.0, 0.0, 4.905245315328756e-07, 0.0, 0.0, 0.0, 0.0, 0.0, 0.0, 0.0, 0.0, 1.0, 0.0, 1.3528643240554798e-05, 0.0, 0.0, 1.0, 0.0, 0.0, 0.0, 0.0, 0.0, 0.0, 0.0, 1.0, 0.0, 0.0, 0.0, 0.0, 1.0, 0.0, 1.0900810566861365e-06, 0.0, 0.0, 0.0, 0.0, 0.0, 0.0, 0.0, 0.0, 0.0, 0.0, 0.3146432602398427, 0.0, 0.0, 0.0, 0.0, 0.0, 0.0, 0.0, 0.0, 0.0, 0.0, 0.0, 0.0, 1.0, 0.0, 0.0, 0.0, 1.0, 0.0, 0.0, 0.0, 0.0, 0.0, 0.0, 0.024802551687845165, 0.0, 1.0, 0.0, 0.0, 0.0, 0.0, 1.0, 0.0, 0.0, 0.0, 0.0, 0.0, 1.0, 0.0, 0.0018678150423364222, 0.0, 0.0, 0.0, 0.0, 0.0, 0.0, 0.0, 0.0, 0.0, 0.0, 0.0, 0.0, 1.0, 0.0, 0.0, 1.1303434698521309e-07, 0.0, 0.0, 0.0, 1.0, 0.0, 0.0, 1.0, 0.0, 1.0, 3.059482515768413e-08, 0.0, 0.0, 0.0, 0.0, 0.0, 0.0, 0.0, 0.0, 1.0, 0.0, 0.0, 1.0, 0.0, 0.0, 0.0, 1.0, 1.0, 0.0, 0.0, 0.0, 1.0, 0.0, 0.0, 0.0, 0.0, 0.0, 0.0, 0.0, 0.0, 0.0, 0.0, 0.0, 0.0, 0.0, 0.007494338310057073, 0.0, 0.0, 0.0, 0.0, 0.0, 0.0, 0.0, 0.0, 0.0, 0.0, 0.0, 0.0, 0.0, 0.0, 0.0, 0.0, 0.0, 0.0, 0.0, 0.0, 0.0, 0.0, 0.009973501106934984, 0.0, 0.0, 0.0, 0.0, 1.0, 0.0, 0.0, 1.0, 0.0, 0.0, 0.0, 0.0, 1.0, 1.353304982000977e-06, 0.0, 1.0, 0.0, 0.0, 0.0, 0.0, 0.0, 0.0, 0.0, 2.2475294524922626e-05, 0.0, 0.0, 0.0, 0.0, 0.0, 0.0, 0.0, 0.0, 0.0, 0.0, 0.0, 0.0, 0.0, 0.0, 0.0, 0.0, 1.0, 0.0, 0.0, 0.0, 0.0, 0.0, 0.0, 0.0, 0.0, 0.0, 0.0, 0.0, 0.0, 0.0, 0.0, 0.0, 0.0, 0.0, 0.0, 1.0, 0.0, 0.0, 0.0, 0.0, 0.0, 0.0, 0.0, 0.0, 0.0, 0.0, 0.0, 1.0, 0.0, 0.0, 1.0, 0.0, 0.0, 0.0, 0.0, 0.0, 1.0, 0.0, 0.0, 0.0, 0.0, 0.0, 6.168862708537691e-08, 0.0, 0.0, 1.0, 0.112369880129588, 0.0, 0.0, 0.0, 1.6431369748296805e-05, 0.0, 0.0, 0.0, 0.0, 0.0, 0.0, 1.0, 0.0, 1.0, 0.009973501106934984, 0.0, 0.0, 0.0, 1.815151931844063e-05, 0.0, 0.0, 0.0, 1.0, 0.0, 0.0, 1.0, 0.0, 0.0, 0.0, 0.0, 0.0, 0.0, 1.0, 0.0, 1.0, 0.0, 0.0, 0.0, 0.0, 0.0, 0.0, 0.0, 0.0, 0.0, 0.0, 0.0, 0.0, 1.0, 0.0, 0.0, 1.0, 0.0, 0.0, 0.0, 0.0, 0.0, 0.0, 0.0, 0.0, 0.0, 0.0, 0.0, 0.0, 0.0, 0.0, 0.0002855604248163365, 0.0, 0.0, 0.0, 0.0, 0.0, 0.0, 0.041210741806641964, 0.0, 0.0, 1.0, 0.0, 0.0, 0.0, 0.0, 1.0, 0.0, 0.0, 0.0, 0.0, 0.0, 0.0, 1.0, 1.0, 0.0, 0.0, 0.0, 0.0, 0.0, 0.0, 0.0, 0.0, 0.0, 0.0, 0.0, 0.0, 0.0, 0.0, 0.0, 0.0, 0.0, 0.0, 0.0, 0.0004505954931378632, 0.0, 1.4230890558546024e-06, 0.0, 4.5880749803144393e-08, 0.0, 0.0, 0.0, 0.0, 0.0, 1.0, 0.0, 0.0, 0.0, 0.0, 0.0, 1.0, 0.0, 0.0, 0.0, 0.0, 0.0, 1.0, 0.0, 0.0, 0.0, 0.0, 0.0, 0.0, 0.0, 0.0, 0.0, 0.0, 0.0, 0.0, 0.0, 0.0, 0.0, 0.0, 1.0, 1.0, 0.0, 0.0, 0.0, 0.0, 0.0, 0.0, 0.0, 1.0, 1.0, 0.0, 0.0, 1.0, 0.0, 0.0, 0.0, 0.0, 0.0, 0.0, 0.0, 0.0, 0.0, 0.0, 0.0, 0.0, 0.0, 1.0, 0.0, 0.0, 0.0, 0.0, 0.0, 7.108055893066562e-05, 0.0, 0.0, 0.0, 0.0, 0.0, 0.020201063025970554, 0.0, 0.0, 0.0, 0.02476412832411056, 0.0, 1.0, 0.0, 9.288431045247249e-07, 0.0, 0.0, 5.0627200435033824e-08, 0.0, 0.0, 0.0, 0.0, 0.0, 0.0, 0.0, 0.0, 0.0, 0.0, 0.0030605434841778287, 0.0, 0.0, 0.0, 0.0, 0.0, 0.0, 0.0, 0.0, 0.0, 1.0, 0.0, 0.0, 0.0, 0.009250689874646587, 0.0, 0.0, 0.009462384097238392, 0.0, 0.0, 0.0, 0.0, 0.0, 0.0, 0.0, 0.0, 0.13406317300789664, 0.0, 0.0, 0.0, 0.0, 0.0, 1.0, 0.0, 0.0, 1.0, 0.0025619428736063632, 0.0, 0.0, 0.0, 0.0, 1.0, 0.0, 0.0, 0.0, 0.0, 0.000581073985681529, 1.0, 0.0, 0.0, 0.0, 1.0, 0.0, 0.0, 0.0, 0.0, 0.0, 0.0, 0.0, 1.0, 0.0, 0.0, 0.0, 0.0, 7.730221784051341e-05, 0.8025097395095838, 0.0, 0.0, 0.0, 1.0, 1.0, 1.0, 1.0, 1.0, 1.0, 1.0, 0.0, 0.0, 0.0, 0.0, 0.0, 0.0, 0.0, 1.0, 0.0, 0.0, 0.0, 0.0, 0.0, 0.003525889703848526, 0.0, 0.0, 1.0, 1.0, 0.0, 0.0, 0.0, 0.0, 0.0, 0.0, 0.0, 0.0, 0.0, 0.0, 0.0, 0.0, 0.0, 0.0, 0.0, 0.0, 1.0, 0.0, 0.0, 1.0, 0.0, 0.018866392799188482, 0.0, 0.0, 1.0, 0.0, 0.0, 0.0, 0.0, 0.0, 0.0011220158493340374, 0.0, 0.0, 0.0, 0.0, 0.0, 0.0, 0.0, 0.0, 1.0, 0.0, 0.0, 0.0, 0.0, 0.0, 0.0, 0.0, 0.0, 0.009973501106934984, 0.0, 0.0, 1.0, 1.0, 0.0, 0.0, 0.0, 0.0, 1.0, 0.0, 7.60059704356909e-05, 0.0, 0.0, 0.0, 0.0, 0.0, 0.0, 0.0, 0.0, 0.0, 0.0, 0.0, 0.0, 0.0, 0.0, 0.0, 0.0, 0.0, 0.0, 0.0, 0.0, 0.0, 0.0, 0.0, 0.0, 0.0, 1.0, 1.0, 0.0, 0.0, 0.0, 0.0, 0.00016691679754899798, 0.00043903600651918164, 0.0, 0.0, 0.0, 0.0, 0.0, 0.0, 0.0, 0.0, 0.0, 0.0, 0.0, 1.0, 0.0, 0.0, 0.0, 0.0, 0.0, 0.0, 0.0, 1.0, 0.0, 0.0, 0.0, 1.0, 0.0, 1.0, 4.6949332572595576e-05, 1.0, 0.0, 0.0, 0.0, 1.0, 0.0, 0.0, 1.0, 0.0, 0.0, 1.0, 0.0, 0.0, 0.0, 0.0, 0.0, 0.0, 0.0, 0.0, 0.0, 0.0, 1.0, 0.0, 1.0, 0.0, 0.0, 0.0, 0.0, 0.0, 0.0, 0.0, 1.0, 0.0, 0.0, 1.0, 0.0, 0.0, 0.0, 0.0, 0.0, 0.0, 0.0, 0.0, 0.0, 0.0, 0.0, 0.0, 0.0, 0.0, 0.0, 0.0, 0.0, 0.0, 0.0, 0.0, 0.0, 1.0, 0.0, 0.0, 0.0, 0.0, 0.0, 3.611276517306558e-10, 0.0, 4.6949332572595576e-05, 0.0, 0.0, 1.0, 0.0, 0.0, 0.0, 0.0, 0.0, 0.0, 0.0, 1.0, 0.0, 0.0, 1.0, 0.0, 0.0, 0.0, 1.0, 0.0, 0.0015304509848263841, 0.0, 0.0, 0.0, 0.0, 0.0, 0.0, 2.1343939342250148e-05, 0.0, 0.0, 0.0, 0.0, 0.0, 0.0, 0.001960538410328889, 0.0, 0.0, 0.0, 0.0, 0.0, 0.0, 0.0, 0.0, 0.0, 0.0, 0.0, 0.0, 1.0, 0.0, 0.0, 0.0, 1.0, 0.0, 0.00026476889996005767, 0.0, 0.0, 0.0, 0.0, 0.0, 0.0, 0.0, 0.0, 0.0, 0.0, 0.0, 0.0, 0.0, 0.0, 0.0, 0.0, 1.0, 0.0, 0.0, 0.0, 0.0, 0.0, 0.0, 0.0, 0.0, 0.0, 0.0, 1.0, 0.0, 0.011770305058549866, 0.0, 0.0, 0.0, 0.0, 0.0, 0.0, 0.0, 0.0, 1.0, 0.0, 0.0, 0.0, 0.0, 1.0, 0.0, 0.0, 0.0, 0.0, 0.00043903600651918164, 0.0, 0.0, 0.0, 0.0, 0.0, 9.239065155318163e-05, 0.0, 0.0, 0.0, 0.0, 0.0, 1.0, 0.0, 0.0, 0.0, 0.0, 0.0, 0.0, 0.0, 1.0, 0.0, 0.0, 0.0, 0.0, 1.0, 0.0, 0.0, 1.0, 0.0, 0.0, 0.0, 0.0, 1.0, 0.0, 0.0, 1.0, 0.0, 0.0, 0.0033021141067956688, 0.0, 0.0, 0.0, 0.0, 0.0, 0.0, 0.0, 0.0, 1.0, 0.0, 1.0, 0.0, 0.0, 0.0, 0.0, 0.0, 0.0, 0.0, 0.0, 1.0, 0.0, 0.0, 1.0, 0.0, 0.0, 0.0, 0.0, 0.0, 0.0, 0.0, 0.0, 1.0, 0.0, 0.0, 0.0, 0.0, 0.0, 1.0, 0.0, 0.0, 0.0, 0.0, 0.0, 0.0, 0.0, 0.0, 0.0, 0.0, 0.0, 1.0, 0.0, 0.0, 0.0, 0.07087509992164852, 0.0, 0.0, 0.0, 0.0, 1.0, 0.0, 0.0, 0.0, 0.0, 0.009973501106934984, 0.0, 0.0, 0.0, 0.0, 0.0, 0.0, 0.0, 0.0, 0.0, 0.0, 0.0, 0.0, 0.0, 0.0, 1.0, 0.0, 0.012217015118992198, 0.0, 0.0, 0.0, 0.0, 0.0, 1.0, 9.496781935294006e-07, 0.0, 0.0, 1.0, 0.0, 1.0, 0.0, 1.0, 0.0, 0.0, 0.0, 0.0, 2.0423730200578816e-08, 0.0, 0.0, 0.0, 0.0, 0.0, 0.0, 0.0, 0.0021257194498209143, 0.0, 0.0, 0.0, 0.0, 0.0, 0.0, 0.0, 1.0, 0.0, 0.0, 0.0, 0.0, 0.0, 1.0, 0.0, 1.0, 0.6444788149479157, 1.0, 0.0, 1.0, 0.0, 0.0, 0.0, 0.0, 0.0, 0.0, 0.0, 1.0, 1.0, 0.0, 0.0, 0.0, 0.0, 0.0, 0.0, 1.0, 0.0, 0.0, 0.0, 0.003403362330891068, 0.0, 0.0, 0.0, 1.0, 0.0, 0.0, 0.0, 0.0, 0.0, 0.0, 0.0, 0.0, 0.0, 0.0, 0.0, 0.0, 0.0, 0.0, 0.024226847339262222, 0.0, 0.0, 0.0, 0.0, 0.0, 1.0, 0.0, 0.0, 0.0, 0.0, 0.0, 0.0, 0.0, 0.0, 0.0, 0.0, 0.0, 1.0, 0.0, 0.0, 0.0, 0.0, 0.0, 0.0, 0.0, 0.0, 1.0, 0.0, 0.0, 0.0, 0.0, 1.0, 0.0, 0.0, 0.0, 1.0, 0.0050769549227071, 0.0008185574604857259, 0.0, 0.0, 0.0, 1.0, 0.0, 0.0, 1.0, 0.0, 0.0, 0.0, 0.0, 0.0, 0.0, 1.0, 0.0, 0.0, 1.0, 1.574412321388296e-05, 0.0, 0.0, 0.0, 0.0, 0.0, 1.0, 1.0, 0.0, 1.0, 0.0, 0.0, 0.0, 0.0, 0.0, 0.0, 0.0, 0.0, 0.0, 1.0, 1.0, 0.0, 0.009973501106934984, 0.0, 1.0, 0.0005295087719386413, 0.0, 0.0, 1.0, 0.0, 0.0, 0.0, 0.0, 0.0, 0.0, 7.767475215324349e-06, 0.0, 0.0, 0.0, 0.0, 0.0, 0.0, 0.0, 0.0, 1.0, 0.0, 0.0, 0.0, 0.00026476889996005767, 5.4530983190399815e-06, 1.0, 0.002287795284656064, 0.0, 0.0, 0.0, 1.0, 1.0, 0.0, 0.0, 0.0, 0.0, 0.0, 0.0, 0.0, 0.0, 0.0, 0.0, 0.0, 1.0, 1.0, 0.0, 0.0, 0.0, 0.0, 0.0, 0.0, 1.0, 1.0, 0.0, 0.0, 0.0, 1.0, 0.0, 0.0, 0.0, 1.0, 0.0, 0.0, 0.0, 0.0, 0.0, 0.0, 0.0, 0.0, 1.0, 0.0, 1.0, 0.0, 0.0, 1.0, 0.0, 0.0, 0.0, 9.96690811414424e-05, 0.0, 0.0, 0.0, 0.0, 0.0, 0.0, 1.0, 0.0, 1.0, 0.0, 0.0, 0.0, 1.0, 0.0030105246694170406, 0.0, 0.0, 1.0, 0.0, 0.0, 0.0, 0.0, 0.0, 0.0, 0.0, 0.0, 0.0, 0.0, 0.0, 0.0, 0.0, 0.0, 1.0, 0.0, 0.0, 0.0, 0.0, 0.0, 0.0, 1.0, 0.0, 0.0, 0.0, 0.0, 0.0, 0.0, 0.0, 0.0, 0.0, 1.0, 0.0, 0.0, 0.0, 0.0, 1.0, 0.0, 0.0, 0.0, 0.0, 1.0, 0.0, 1.0, 0.0, 0.0, 0.0, 0.0, 0.0, 1.0, 0.0, 0.0, 0.0, 1.0, 0.0, 0.0005903700593095408, 1.0, 0.0, 0.0, 0.0, 0.0, 0.0, 0.0, 0.0, 0.0, 0.0, 0.0, 0.0, 0.0, 0.0, 1.0, 0.0, 0.0, 0.0018999973615646463, 0.0, 0.0, 0.0, 0.0, 0.0, 0.0, 0.0, 0.0, 0.0, 1.0, 0.0, 1.0, 1.0, 1.0, 0.0, 0.0, 0.0, 0.0, 0.0, 1.0, 0.00022819691455687368, 0.0, 0.0, 0.0, 0.0, 0.0, 1.0, 0.0, 0.0, 0.0, 0.0, 0.0, 0.0, 0.0, 0.0, 0.0, 0.0, 0.0, 0.0, 0.0, 0.0, 0.0, 0.0, 0.0, 0.0, 0.0, 0.00043903600651918164, 0.0, 0.0, 1.0, 1.0, 0.0, 0.0, 0.0, 0.0, 0.0, 1.0, 0.0, 0.0, 0.0, 0.0, 1.0, 0.9777520826261832, 0.0, 0.0, 0.0, 0.0, 0.0, 0.0, 1.0, 0.0, 1.0, 2.67501350636864e-07, 0.0, 0.0, 0.0, 0.0, 0.0, 0.0, 0.0, 0.0, 0.0, 0.0, 0.0, 0.0, 1.0, 0.0, 0.0, 0.0, 0.0, 0.0, 0.0, 0.0, 1.0, 1.0, 0.0, 0.2572611983965493, 0.0, 0.0, 0.0, 0.0, 0.0, 0.0, 0.0, 0.0, 0.0021918758601295932, 0.13703106738455606, 0.0, 1.0, 1.0, 1.0, 1.0, 1.0, 0.0, 0.0, 0.0, 0.0, 0.0, 0.0, 0.0, 0.0, 0.0, 0.0, 0.0, 1.0, 0.0, 0.0, 0.0, 0.0, 0.0, 0.0, 0.0, 0.0, 0.0, 0.0, 0.0, 0.0, 0.0, 0.0, 0.0, 0.0, 0.0, 1.0, 0.0, 0.0, 0.0, 0.0, 0.0, 0.0, 0.0, 0.0, 0.0, 0.0, 0.0, 0.0, 0.0, 0.0, 0.0, 0.0, 0.0, 0.0, 1.0, 0.0, 0.0, 0.0, 0.0, 0.0, 0.0, 1.0, 0.0004505954931378632, 0.00012357665891676902, 0.0, 1.0, 0.0, 0.0, 0.0, 0.0, 0.0, 0.0, 0.0, 0.0, 0.0, 0.0, 0.0, 1.0, 0.0, 1.0, 0.0, 0.0, 1.0, 1.0, 0.0, 0.0, 0.0, 0.0, 0.0, 0.0, 0.0, 0.0, 1.0, 0.0, 0.0, 0.0, 0.0, 0.0, 0.0, 0.0, 1.0, 0.0, 0.0, 0.0, 0.0, 0.0, 0.0, 0.0, 0.0, 0.0, 0.001513105019705344, 0.0, 0.0, 1.0, 0.0, 0.0, 1.0, 0.0, 0.0, 0.0, 0.0, 0.0, 0.0, 0.0, 0.0, 0.14183894025863686, 0.0, 2.7474773696017457e-07, 0.0, 0.0, 0.0, 0.0, 0.0, 0.0, 2.564644802218828e-07, 0.0, 0.0, 0.0, 0.0, 0.0, 0.0, 0.0, 1.0, 0.0, 6.274244331516513e-06, 0.0, 0.0, 0.0, 0.0, 0.0, 0.0, 0.0, 0.0, 0.0, 0.0, 2.0018006892075937e-05, 1.0, 0.0, 0.0, 0.0, 0.0, 0.0, 0.0, 0.0, 0.0, 0.0, 1.0, 0.0, 0.0, 0.0, 0.0, 0.0, 0.0, 0.0, 0.0, 0.0, 0.0, 0.0, 0.0, 0.9998364320041561, 0.0, 1.0, 0.0, 0.0, 0.0, 0.0, 0.0, 0.0, 0.0, 0.0, 0.0, 0.0, 0.0, 0.04540634880426376, 0.0, 0.0, 0.0, 0.0, 0.0, 0.0, 0.0, 0.0, 0.0, 0.0, 0.009973501106934984, 1.0, 1.0, 0.0, 0.0, 0.0011497648047552856, 0.0, 0.0, 1.0, 0.0, 0.0, 0.0, 0.0, 0.0, 0.0, 0.0, 1.0, 0.0, 0.0, 1.0, 0.0, 0.0, 0.0, 0.0, 0.0, 0.015552132316969645, 0.0, 0.0, 0.0, 1.0, 0.0, 0.0, 0.0, 0.0, 0.0, 0.0, 1.0, 0.0, 0.0, 0.0, 0.0, 0.0, 0.0, 0.0, 0.0, 1.0, 0.0, 0.0, 0.0, 0.0, 0.0, 0.0, 0.0, 0.0, 0.0, 0.0, 0.0, 0.0, 0.0, 0.0, 0.0, 0.0, 0.0, 0.0, 0.0, 0.0011005639082252475, 0.0, 0.0007538544916686064, 0.0, 0.0, 0.0, 0.0, 1.141969693792163e-06, 1.0, 0.0, 0.0, 1.0, 0.0010550218475102195, 0.0, 1.0, 1.0, 1.0, 0.0, 0.0, 0.0, 0.0, 1.0, 0.0, 1.0, 1.0, 0.0, 0.0, 0.0, 0.0, 1.0, 0.0, 0.0, 0.0, 0.0, 0.0, 0.0, 0.0, 0.0, 0.0, 1.0, 0.0, 0.0, 0.0, 0.0, 0.0, 0.0, 0.0, 0.0, 0.0, 0.0, 0.0, 0.0, 0.0, 1.0, 0.0, 0.0, 0.0, 0.0, 0.0, 0.0, 0.0, 0.0, 0.0, 0.0, 0.0, 1.0, 1.0, 0.0, 0.0, 0.0, 0.0, 0.0, 0.0, 0.0, 0.0, 0.0, 0.0, 0.0, 0.0, 0.0, 1.0, 0.0, 0.0, 0.0, 1.0, 0.0, 0.0, 0.0, 0.0, 1.0, 0.0, 0.0, 0.0, 0.0, 0.0, 1.0, 0.0, 0.00026476889996005767, 0.0, 0.0, 0.0, 0.0, 0.0, 0.0, 0.0, 0.0, 0.0, 0.0, 0.0, 0.0, 1.0, 0.0, 0.0, 1.0, 0.0, 0.0, 0.0, 0.0, 0.0, 0.0, 0.0, 1.3414466635476497e-06, 0.0, 0.0, 0.0, 0.0, 0.0, 0.0, 0.0, 0.0, 0.0, 0.0, 0.0, 1.0, 0.0, 0.0, 0.0, 0.0, 1.0, 0.0, 0.6351407195167366, 0.0, 0.0, 0.0, 0.0, 0.0, 0.0, 0.0, 0.0, 0.0, 0.0, 0.0, 0.0, 0.0, 0.0, 0.0, 0.0, 0.0, 0.0, 0.0, 0.0, 0.0, 1.0, 0.0, 0.0, 1.0, 0.0, 0.0, 0.0, 0.0, 0.0, 0.0, 1.0, 0.0, 0.0, 0.0, 0.0, 0.0, 0.0, 0.0, 0.0, 0.0, 0.0, 1.0, 0.0, 3.587102699856706e-06, 0.0, 0.0, 0.0, 1.0, 0.0, 1.0, 0.0, 0.0, 0.0, 0.0, 1.0, 1.0, 0.0, 0.0, 0.0, 0.0, 0.0, 0.0, 0.0, 1.0, 0.0, 0.0, 0.0, 0.0, 0.0, 0.0, 0.0, 0.0, 0.0, 0.0, 0.0, 0.0, 0.0, 0.0, 0.0, 0.0, 0.0, 1.0, 0.0, 0.0, 0.0, 0.0, 0.0, 0.0, 0.0, 0.0, 0.0, 0.0, 1.0, 1.0, 0.0, 0.0, 0.0, 0.0, 0.0, 0.0, 0.0, 0.0, 0.0, 1.0, 0.0, 0.0, 0.0, 0.0, 0.0, 0.0, 0.0, 0.0, 0.0, 0.0, 0.0, 0.0, 1.0, 0.0, 1.0, 0.13406317300789664, 0.0, 0.0, 0.0, 0.0, 0.0, 0.0, 0.0, 0.0, 0.0, 1.0, 0.0, 0.0, 0.0, 0.0, 0.0, 0.0, 1.0, 0.0, 0.0, 0.0, 1.0, 0.0, 0.0, 0.0, 0.0, 0.0, 0.0, 0.0, 0.0, 0.0, 0.0, 0.012243987904722562, 0.0, 0.0, 0.009973501106934984, 0.0, 0.0, 0.0, 1.0, 1.0, 0.0, 0.0, 0.0, 0.0, 0.0, 0.0, 0.0, 0.0, 0.0, 0.0, 0.0, 0.0, 1.0, 0.0, 1.0, 0.0, 0.0, 4.940247612825334e-07, 0.0, 0.0, 0.0, 0.0, 0.0, 1.0, 0.0, 0.0, 0.0, 0.0, 0.0, 0.169441743433997, 0.0, 1.0, 0.0, 0.00026476889996005767, 0.0, 0.0, 1.0, 0.0, 1.0, 0.0, 0.0, 1.0, 0.0, 0.0, 0.0, 0.0018442295034339308, 0.0, 0.0, 0.0, 1.0, 0.0, 0.0, 0.0, 1.0, 0.0, 0.0, 0.0, 0.0, 0.0, 0.0, 0.0, 0.0, 0.0, 0.0, 0.0, 1.0, 1.0, 0.0, 0.0, 0.0, 0.0, 0.0, 0.0, 0.0, 0.0, 0.0, 0.0, 0.0, 0.0, 0.0, 0.0, 0.0, 0.0, 1.0, 1.0, 0.0, 0.0, 0.0, 1.0, 0.0, 0.0, 0.0, 0.0, 0.0, 0.0, 0.0, 0.0, 0.0, 0.0, 0.0, 1.0, 0.0, 1.0, 1.0, 0.0, 0.0, 0.0, 0.0, 0.0, 0.0, 0.0, 0.0, 0.0, 0.0, 0.0, 0.0, 0.0, 0.0, 0.0, 0.0, 1.0, 0.0, 0.0, 0.0, 0.24714369453815155, 0.0, 1.0, 0.0, 0.0, 0.0, 0.0, 0.0, 0.0, 0.0, 0.002274943482327399, 0.0, 0.0, 0.0, 0.0, 1.0, 0.0, 0.0, 0.00015199388592079547, 1.425670804875377e-07, 0.0, 0.0, 0.0, 1.0, 0.0, 0.0, 0.0, 0.0, 0.0, 1.0, 0.0, 0.0002330262710676988, 2.4045182115845803e-06, 0.0, 0.0, 0.0, 0.0, 0.0, 1.0, 1.0, 0.0, 1.0, 0.0, 0.0, 0.0, 0.0, 0.0, 0.0, 1.0, 0.0, 0.0, 0.0, 1.0, 0.0, 1.0, 0.0, 0.0, 0.0, 0.0, 0.0, 0.0, 0.0, 0.0, 0.0, 0.0, 0.0, 1.0, 0.0, 0.0, 0.0, 0.0, 1.0, 0.0, 0.0, 0.0, 0.0, 0.0, 0.0, 0.0, 1.0, 0.002466672528023749, 0.0, 1.0, 0.0, 1.0, 0.0, 0.0, 1.0, 0.0, 0.0, 1.0, 0.0, 0.0, 0.0, 0.0, 0.0001016982737011323, 0.0051266208232061345, 0.0, 0.0, 0.0, 0.0, 0.0, 0.0, 0.0, 0.0, 0.0, 0.0, 0.0, 0.0, 1.0, 0.0, 0.0, 0.0, 1.0, 0.0, nan, 0.0, 0.0, 0.0, 0.0, 0.0, 1.0, 0.0, 1.0, 0.0, 0.0, 1.0, 0.0, 0.0, 0.0, 0.0, 1.0, 0.0, 0.0, 0.0, 0.0, 0.0, 0.0, 0.0, 0.0, 0.0, 0.0, 0.0, 0.0, 0.0, 0.0, 0.0, 0.0, 1.0, 0.0, 0.0, 0.0, 1.0, 0.0, 0.0, 0.0, 0.0, 0.0, 1.0, 0.0, 0.0, 0.0, 0.0, 0.0, 0.0, 0.0, 0.0, 0.0, 0.0067113038998733564, 0.0, 0.0, 0.0, 0.0, 0.0, 0.0, 1.0, 0.0, 0.0, 0.02675120441291046, 0.0, 0.0, 0.0, 1.425670804875377e-07, 0.0, 0.1887121875886115, 0.0, 0.0, 0.0, 0.0, 1.0, 0.0, 0.0, 0.0, 2.0018006892075937e-05, 0.0, 0.0, 0.0, 0.0, 0.0, 0.0, 1.0, 1.0, 0.0, 0.0, 0.0, 0.0, 0.0, 1.0, 0.0, 0.0, 0.0, 1.0, 1.0, 0.0, 0.0, 0.0, 1.0, 0.0, 0.0, 0.00104593145488657, 0.0, 0.0, 0.016486775907149982, 0.0, 0.0, 1.0, 0.0, 2.67501350636864e-07, 0.0, 0.0, 0.0, 0.0, 0.0, 0.0, 0.0, 0.0, 0.0, 0.0, 0.0, 1.0, 0.0, 0.0, 0.0, 1.0, 0.0, 9.909175658131374e-06, 0.0, 0.0, 1.0, 0.0, 0.0, 0.0, 0.0, 0.0, 0.0, 0.0, 0.0, 0.0, 0.0, 0.0, 0.0, 1.0, 0.0, 0.0, 0.0, 0.0, 0.0, 0.0, 0.0, 0.0, 0.0, 0.0, 0.0, 0.00042290684707199715, 0.0, 0.0, 0.0, 0.0, 0.0, 0.0, 1.0, 0.0, 0.0, 0.0, 4.704626115656163e-11, 0.0, 0.0, 0.0, 0.0, 1.0, 0.0, 0.0, 0.0, 0.0, 0.0, 0.0014674582319450695, 1.0, 0.0, 0.0, 0.0, 0.0, 0.0025874715638692096, 0.0, 1.0, 0.0, 1.0, 0.0, 0.0, 0.0, 0.0, 0.0, 3.32534642360438e-05, 1.141969693792163e-06, 0.0, 0.0, 0.0, 0.0, 0.00015366116051694336, 6.23634082519789e-05, 0.0, 0.0, 0.0, 0.0, 0.0, 0.0, 1.0, 0.0, 0.0, 0.0, 0.0, 0.0, 0.0, 0.0, 2.551262356944095e-06, 0.0, 0.0, 0.0, 0.0, 0.0, 0.0, 0.0, 0.0, 0.0, 0.0, 0.0, 0.0, 0.0, 0.0, 0.0, 0.0, 0.0, 0.0, 0.0, 1.0, 0.0, 0.0, 0.0, 0.0, 0.0, 1.368710479281463e-07, 0.00011888451951374921, 0.0, 0.0, 0.0, 0.0, 0.0, 0.0, 0.0, 0.009973501106934984, 0.0, 0.0, 0.0, 0.0, 0.0, 0.0, 1.0, 1.0, 1.0, 0.0, 1.0, 0.0, 1.0, 0.0, 0.0, 0.0, 0.0, 0.00026476889996005767, 0.0, 1.0, 1.0, 0.0, 0.0, 1.0, 0.0, 0.0, 0.0, 0.0, 0.0011080477950825424, 0.0, 0.0, 0.0, 0.0, 0.0, 0.0, 0.0, 0.0, 0.0, 0.0, 0.0, 1.2686442797834049e-05, 0.0, 0.0, 0.0, 0.0, 0.0, 0.0, 4.629977351704088e-05, 0.0, 0.0, 0.007379947853860978, 0.0, 0.0, 0.0, 0.0, 0.0, 0.0, 0.0, 0.0, 0.0, 0.0, 0.0, 0.0, 0.0, 0.0, 0.0, 0.0, 0.0, 0.0, 1.0, 0.0, 0.0, 0.0, 0.0, 0.0, 0.0, 0.0, 0.0, 0.0, 0.0, 0.0, 0.0, 0.0, 0.0, 0.0, 1.0, 0.0, 0.0, 0.0, 0.0, 0.0, 1.0, 0.0, 0.0, 0.0, 0.0, 0.0, 0.0, 1.0, 0.0, 0.0, 0.0, 1.0, 0.0, 1.0, 0.0, 0.0, 0.0, 1.0, 1.0, 1.0, 0.0, 0.0008117641563712409, 0.0, 0.0, 0.0, 0.0, 0.0, 0.0, 0.0, 0.0, 0.0, 0.0, 0.0, 1.0, 0.0, 0.0, 0.0, 0.0, 1.0, 5.739077808636962e-06, 0.0, 5.739077808636962e-06, 0.0, 1.0, 0.0, 0.0, 0.0, 0.0, 1.0, 0.0, 0.0, 0.0, 1.0, 0.0, 0.0, 0.0, 0.0, 0.0, 0.0, 0.0, 0.0, 0.0, 0.0, 0.0, 0.0, 0.0, 0.0, 0.0, 0.0, 0.0, 0.0, 0.0, 0.0, 0.0, 0.05308292246599285, 1.0, 0.0, 1.0, 0.0, 0.0, 0.0002370960600207116, 0.0, 0.0, 0.0, 0.0, 0.0048371045098301495, 0.0, 0.0, 1.0, 0.0, 0.0, 1.0, 0.0, 0.0, 0.0, 0.0, 0.0, 0.0, 1.0, 0.00013383326887876014, 0.0, 5.72661039620953e-06, 0.0, 0.0, 0.0, 0.0, 0.0, 0.0, 0.0, 0.0, 0.0, 0.0, 0.0, 0.0, 0.0, 0.0, 0.0, 1.0, 1.0, 0.0, 0.0, 0.0, 0.0]\n"
     ]
    },
    {
     "name": "stderr",
     "output_type": "stream",
     "text": [
      "<ipython-input-85-5f26d847b0c4>:19: RuntimeWarning: invalid value encountered in double_scalars\n",
      "  sprob = sprob/(nsprob+sprob)\n"
     ]
    }
   ],
   "source": [
    "#Given the testing set, it generates a prediction array for each message in the testing set that contains the\n",
    "#spam word probabilities\n",
    "def test(X, spam_word_probs, not_spam_word_probs, spam_prob, not_spam_prob):\n",
    "    preds = []\n",
    "    for m in X:\n",
    "        preds.append(pred(m, spam_word_probs, not_spam_word_probs, spam_prob, not_spam_prob)[0])\n",
    "    return preds\n",
    "\n",
    "#Sample Function Call\n",
    "preds = test(message_df['Message'],spam_word_probs, not_spam_word_probs, spam_prob, not_spam_prob)\n",
    "print(preds)"
   ]
  },
  {
   "cell_type": "raw",
   "id": "8cb0587a",
   "metadata": {},
   "source": [
    "The test function given a message series looks at each message, splits its words, and calculates the probability that the message is spam. The probability that the message is not spam is simply: \n",
    "1- (spam_probability of the message)."
   ]
  },
  {
   "cell_type": "markdown",
   "id": "40dde83e",
   "metadata": {},
   "source": [
    "# Prediction Assessment - Question1"
   ]
  },
  {
   "cell_type": "code",
   "execution_count": 88,
   "id": "7744c913",
   "metadata": {},
   "outputs": [
    {
     "data": {
      "image/png": "[encoded data removed]",
      "text/plain": [
       "<Figure size 432x288 with 1 Axes>"
      ]
     },
     "metadata": {
      "needs_background": "light"
     },
     "output_type": "display_data"
    }
   ],
   "source": [
    "#Computes the true positive rates and the false positive rates at different thresholds as mentioned in the slides \n",
    "#to plot the ROC curve.\n",
    "def my_roc_func(pred_probs, labels):\n",
    "    df = pd.DataFrame({'predicted': pred_probs, 'label': labels})\n",
    "    df = df.sort_values(by='predicted', ascending=False)\n",
    "    df.reset_index(inplace=True, drop=True) \n",
    "    \n",
    "    labels = df['label'].to_numpy()\n",
    "    spams = df['label'].sum()\n",
    "    hams = df.shape[0] - spams\n",
    "    \n",
    "    threshold = 0\n",
    "    tpr = 0\n",
    "    fpr = 0\n",
    "    #The first dot on the ROC curve is (0, 0) because of TPR(0/T) and FPR(0/T) \n",
    "    roc_tpr = [0]\n",
    "    roc_fpr = [0]\n",
    "    predicted = []\n",
    "    for row_index in range(df.shape[0]-1):\n",
    "        current = df['label'][row_index]\n",
    "        nxt = df['label'][row_index+1]\n",
    "        if current != nxt:\n",
    "            predicted = [1 for i in range(row_index+1)] + [0 for i in range(df.shape[0] - row_index-1)]\n",
    "            tp = 0\n",
    "            fp = 0\n",
    "            for  a,b in zip(predicted, labels):\n",
    "                if a==1 and b==1:\n",
    "                    tp += 1\n",
    "                elif a==1 and b==0:\n",
    "                    fp += 1\n",
    "            roc_tpr.append(tp/spams)\n",
    "            roc_fpr.append(fp/hams)\n",
    "    \n",
    "    #Similarly the final point in the roc curve is (1,1) for tpr and fpr\n",
    "    roc_tpr.append(1)\n",
    "    roc_fpr.append(1)\n",
    "\n",
    "    \n",
    "    return roc_tpr, roc_fpr\n",
    "\n",
    "#Sample Function Call\n",
    "import matplotlib.pyplot as plt\n",
    "tpr, fpr = my_roc_func(preds, message_df['Label'])\n",
    "plt.plot(fpr,tpr)\n",
    "plt.show()"
   ]
  },
  {
   "cell_type": "code",
   "execution_count": 100,
   "id": "9efeb5d5",
   "metadata": {},
   "outputs": [
    {
     "data": {
      "image/png": "[encoded data removed]",
      "text/plain": [
       "<Figure size 432x288 with 1 Axes>"
      ]
     },
     "metadata": {
      "needs_background": "light"
     },
     "output_type": "display_data"
    }
   ],
   "source": [
    "#Prediction Assessment\n",
    "import matplotlib.pyplot as plt\n",
    "\n",
    "#Plots the ROC Curve as well\n",
    "def my_roc_func_v2(pred_probs, labels):\n",
    "    df = pd.DataFrame({'predicted': pred_probs, 'label': labels})\n",
    "    df = df.sort_values(by='predicted', ascending=False)\n",
    "    df.reset_index(inplace=True, drop=True) \n",
    "    \n",
    "    labels = df['label'].to_numpy()\n",
    "    spams = df['label'].sum()\n",
    "    hams = df.shape[0] - spams\n",
    "    \n",
    "    threshold = 0\n",
    "    tpr = 0\n",
    "    fpr = 0\n",
    "    #The first dot on the ROC curve is (0, 0) because of TPR(0/T) and FPR(0/T) \n",
    "    roc_tpr = [0]\n",
    "    roc_fpr = [0]\n",
    "    predicted = []\n",
    "    for row_index in range(df.shape[0]-1):\n",
    "        current = df['label'][row_index]\n",
    "        nxt = df['label'][row_index+1]\n",
    "        if current != nxt:\n",
    "            predicted = [1 for i in range(row_index+1)] + [0 for i in range(df.shape[0] - row_index-1)]\n",
    "            tp = 0\n",
    "            fp = 0\n",
    "            for  a,b in zip(predicted, labels):\n",
    "                if a==1 and b==1:\n",
    "                    tp += 1\n",
    "                elif a==1 and b==0:\n",
    "                    fp += 1\n",
    "            roc_tpr.append(tp/spams)\n",
    "            roc_fpr.append(fp/hams)\n",
    "    \n",
    "    #Similarly the final point in the roc curve is (1,1) for tpr and fpr\n",
    "    roc_tpr.append(1)\n",
    "    roc_fpr.append(1)\n",
    "\n",
    "    \n",
    "#     return roc_tpr, roc_fpr\n",
    "#     tpr, fpr = my_roc_func(preds, message_df['Label'])\n",
    "    plt.plot(roc_fpr,roc_tpr)\n",
    "    plt.xlabel('False Positive Rate')\n",
    "    plt.ylabel('True Positive Rate')\n",
    "    plt.title('ROC Curve')\n",
    "    plt.show()\n",
    "\n",
    "my_roc_func_v2(preds, message_df['Label'])"
   ]
  },
  {
   "cell_type": "markdown",
   "id": "8d0a75a5",
   "metadata": {},
   "source": [
    "# Prediction Assesment - Question3"
   ]
  },
  {
   "cell_type": "code",
   "execution_count": 89,
   "id": "d265ea4b",
   "metadata": {},
   "outputs": [
    {
     "name": "stdout",
     "output_type": "stream",
     "text": [
      "Accuracy: 0.9892280071813285\n",
      "Precision: 0.96\n",
      "Recall: 0.96\n",
      "Specificity: 0.9937759336099585\n",
      "\n",
      "Confusion Matrix:\n",
      "                       Actual: Positive     Actual: Negative\n",
      "Predicted: Positive  True Positives: 72   False Positives: 3\n",
      "Predicted: Negative  False Negatives: 3  True Negatives: 479\n"
     ]
    }
   ],
   "source": [
    "def my_class_scores(preds, labels, thresh = 0.5):\n",
    "#Calculate Confusion Matrix\n",
    "    tp = 0\n",
    "    tn = 0\n",
    "    fp = 0\n",
    "    fn = 0\n",
    "    for p, t in zip(test_preds, y_test_folds):\n",
    "        if p<thresh:\n",
    "            p=0\n",
    "        else: p = 1\n",
    "        \n",
    "        if p == 1:\n",
    "            if t == 1:\n",
    "                tp += 1\n",
    "            elif t == 0:\n",
    "                fp += 1\n",
    "        elif p == 0:\n",
    "            if t == 1:\n",
    "                fn += 1\n",
    "            elif t == 0:\n",
    "                tn += 1\n",
    "        else: raise Exception('Something wrong', p,t)\n",
    "        \n",
    "    correct = tp+tn\n",
    "    total_predictions = tp+fp+tn+fn\n",
    "    #print('TP FP TN FN')\n",
    "    #print(tp, fp, tn, fn)\n",
    "\n",
    "    #Create accuracy, precision, recall, and specificity based on their formula\n",
    "    accuracy = correct/total_predictions\n",
    "    precision = tp/(tp+fp)\n",
    "    recall = tp/(tp+fn)\n",
    "    specificity = tn/(tn+fp)\n",
    "    \n",
    "    #create confusion_matrxi_dataframe based on lecture 7\n",
    "    confusion_matrix = pd.DataFrame(columns = [\"Actual: Positive\", \"Actual: Negative\"])\n",
    "    confusion_matrix[\"Actual: Positive\"] = ['True Positives: ' + str(tp), 'False Negatives: '+str(fn)]\n",
    "    confusion_matrix[\"Actual: Negative\"] = ['False Positives: ' + str(fp), 'True Negatives: '+str(tn)]\n",
    "    confusion_matrix.index = [\"Predicted: Positive\", \"Predicted: Negative\"]\n",
    "#     confusion_matrix    \n",
    "#     print('Accuracy:', correct, total_predictions)\n",
    "#     print('Accuracy:', accuracy)\n",
    "#     print('Precision:', precision)\n",
    "#     print('Recall:', recall)\n",
    "#     print('Specificity:', specificity)\n",
    "#     print('Confusion Matrix:', confusion_matrix)\n",
    "    return accuracy, precision, recall, specificity, confusion_matrix\n",
    "\n",
    "#Sample Function Call\n",
    "accuracy, precision, recall, specificity, confusion_matrix = my_class_scores(preds, message_df['Label'], thresh=0.5)\n",
    "print('Accuracy:', accuracy)\n",
    "print('Precision:', precision)\n",
    "print('Recall:', recall)\n",
    "print('Specificity:', specificity)\n",
    "print()\n",
    "print('Confusion Matrix:')\n",
    "print(confusion_matrix)\n"
   ]
  },
  {
   "cell_type": "markdown",
   "id": "dc79d162",
   "metadata": {},
   "source": [
    "## Without Laplace Smoothing"
   ]
  },
  {
   "cell_type": "markdown",
   "id": "7100ec74",
   "metadata": {},
   "source": [
    "In this part, we are going to use the StratifiedKFolds for k=10 and have 10 iterations.\n",
    "In each iteration, we will set aside part of our data for testing and the remaining parts for training the Naive Bayes algorithm. \n",
    "We will get the unique_words based on our training set; we will create an M*N Matrix for our training set, get the mean of each unique word in our training set, generate the ROC curves for our testing set, etc.\n",
    "In fact, we will try all the above code for each iteration in each fold and test the result on our testing set, and create accuracy, precision, recall, and specificity based on their formula."
   ]
  },
  {
   "cell_type": "code",
   "execution_count": 103,
   "id": "812a82f4",
   "metadata": {
    "scrolled": true
   },
   "outputs": [
    {
     "name": "stdout",
     "output_type": "stream",
     "text": [
      "Created Count Matrix for Fold 1\n",
      "Sum of spam and not spam prior probabilities: 1.0\n",
      "Sum of all the conditional word probabilities for spam: 0.9999999999999728\n",
      "Sum of all the conditional word probabilities for not_spam: 1.0000000000000582\n",
      "Accuracy: 0.953405017921147\n",
      "Precision: 0.7474747474747475\n",
      "Recall: 0.9866666666666667\n",
      "Specificity: 0.94824016563147\n",
      "\n",
      "Confusion Matrix:\n",
      "                       Actual: Positive     Actual: Negative\n",
      "Predicted: Positive  True Positives: 74  False Positives: 25\n",
      "Predicted: Negative  False Negatives: 1  True Negatives: 458\n",
      "Fold 1 Done\n"
     ]
    },
    {
     "name": "stderr",
     "output_type": "stream",
     "text": [
      "<ipython-input-85-5f26d847b0c4>:19: RuntimeWarning: invalid value encountered in double_scalars\n",
      "  sprob = sprob/(nsprob+sprob)\n"
     ]
    },
    {
     "name": "stdout",
     "output_type": "stream",
     "text": [
      "Created Count Matrix for Fold 2\n",
      "Sum of spam and not spam prior probabilities: 1.0\n",
      "Sum of all the conditional word probabilities for spam: 0.9999999999999741\n",
      "Sum of all the conditional word probabilities for not_spam: 0.9999999999999679\n",
      "Accuracy: 0.9516129032258065\n",
      "Precision: 0.7448979591836735\n",
      "Recall: 0.9733333333333334\n",
      "Specificity: 0.94824016563147\n",
      "\n",
      "Confusion Matrix:\n",
      "                       Actual: Positive     Actual: Negative\n",
      "Predicted: Positive  True Positives: 73  False Positives: 25\n",
      "Predicted: Negative  False Negatives: 2  True Negatives: 458\n",
      "Fold 2 Done\n"
     ]
    },
    {
     "name": "stderr",
     "output_type": "stream",
     "text": [
      "<ipython-input-85-5f26d847b0c4>:19: RuntimeWarning: invalid value encountered in double_scalars\n",
      "  sprob = sprob/(nsprob+sprob)\n"
     ]
    },
    {
     "name": "stdout",
     "output_type": "stream",
     "text": [
      "Created Count Matrix for Fold 3\n",
      "Sum of spam and not spam prior probabilities: 1.0\n",
      "Sum of all the conditional word probabilities for spam: 0.9999999999999818\n",
      "Sum of all the conditional word probabilities for not_spam: 0.9999999999999641\n",
      "Accuracy: 0.9551166965888689\n",
      "Precision: 0.7752808988764045\n",
      "Recall: 0.9324324324324325\n",
      "Specificity: 0.9585921325051759\n",
      "\n",
      "Confusion Matrix:\n",
      "                       Actual: Positive     Actual: Negative\n",
      "Predicted: Positive  True Positives: 69  False Positives: 20\n",
      "Predicted: Negative  False Negatives: 5  True Negatives: 463\n",
      "Fold 3 Done\n"
     ]
    },
    {
     "name": "stderr",
     "output_type": "stream",
     "text": [
      "<ipython-input-85-5f26d847b0c4>:19: RuntimeWarning: invalid value encountered in double_scalars\n",
      "  sprob = sprob/(nsprob+sprob)\n"
     ]
    },
    {
     "name": "stdout",
     "output_type": "stream",
     "text": [
      "Created Count Matrix for Fold 4\n",
      "Sum of spam and not spam prior probabilities: 1.0\n",
      "Sum of all the conditional word probabilities for spam: 0.999999999999998\n",
      "Sum of all the conditional word probabilities for not_spam: 0.9999999999999583\n",
      "Accuracy: 0.9730700179533214\n",
      "Precision: 0.8390804597701149\n",
      "Recall: 0.9864864864864865\n",
      "Specificity: 0.9710144927536232\n",
      "\n",
      "Confusion Matrix:\n",
      "                       Actual: Positive     Actual: Negative\n",
      "Predicted: Positive  True Positives: 73  False Positives: 14\n",
      "Predicted: Negative  False Negatives: 1  True Negatives: 469\n",
      "Fold 4 Done\n"
     ]
    },
    {
     "name": "stderr",
     "output_type": "stream",
     "text": [
      "<ipython-input-85-5f26d847b0c4>:19: RuntimeWarning: invalid value encountered in double_scalars\n",
      "  sprob = sprob/(nsprob+sprob)\n"
     ]
    },
    {
     "name": "stdout",
     "output_type": "stream",
     "text": [
      "Created Count Matrix for Fold 5\n",
      "Sum of spam and not spam prior probabilities: 1.0\n",
      "Sum of all the conditional word probabilities for spam: 1.000000000000021\n",
      "Sum of all the conditional word probabilities for not_spam: 1.0000000000000788\n",
      "Accuracy: 0.9461400359066428\n",
      "Precision: 0.7391304347826086\n",
      "Recall: 0.918918918918919\n",
      "Specificity: 0.9503105590062112\n",
      "\n",
      "Confusion Matrix:\n",
      "                       Actual: Positive     Actual: Negative\n",
      "Predicted: Positive  True Positives: 68  False Positives: 24\n",
      "Predicted: Negative  False Negatives: 6  True Negatives: 459\n",
      "Fold 5 Done\n"
     ]
    },
    {
     "name": "stderr",
     "output_type": "stream",
     "text": [
      "<ipython-input-85-5f26d847b0c4>:19: RuntimeWarning: invalid value encountered in double_scalars\n",
      "  sprob = sprob/(nsprob+sprob)\n"
     ]
    },
    {
     "name": "stdout",
     "output_type": "stream",
     "text": [
      "Created Count Matrix for Fold 6\n",
      "Sum of spam and not spam prior probabilities: 1.0\n",
      "Sum of all the conditional word probabilities for spam: 1.0000000000000242\n",
      "Sum of all the conditional word probabilities for not_spam: 1.0000000000000593\n",
      "Accuracy: 0.9425493716337523\n",
      "Precision: 0.7216494845360825\n",
      "Recall: 0.9333333333333333\n",
      "Specificity: 0.9439834024896265\n",
      "\n",
      "Confusion Matrix:\n",
      "                       Actual: Positive     Actual: Negative\n",
      "Predicted: Positive  True Positives: 70  False Positives: 27\n",
      "Predicted: Negative  False Negatives: 5  True Negatives: 455\n",
      "Fold 6 Done\n"
     ]
    },
    {
     "name": "stderr",
     "output_type": "stream",
     "text": [
      "<ipython-input-85-5f26d847b0c4>:19: RuntimeWarning: invalid value encountered in double_scalars\n",
      "  sprob = sprob/(nsprob+sprob)\n"
     ]
    },
    {
     "name": "stdout",
     "output_type": "stream",
     "text": [
      "Created Count Matrix for Fold 7\n",
      "Sum of spam and not spam prior probabilities: 1.0\n",
      "Sum of all the conditional word probabilities for spam: 0.9999999999999759\n",
      "Sum of all the conditional word probabilities for not_spam: 0.9999999999999526\n",
      "Accuracy: 0.9640933572710951\n",
      "Precision: 0.8089887640449438\n",
      "Recall: 0.96\n",
      "Specificity: 0.9647302904564315\n",
      "\n",
      "Confusion Matrix:\n",
      "                       Actual: Positive     Actual: Negative\n",
      "Predicted: Positive  True Positives: 72  False Positives: 17\n",
      "Predicted: Negative  False Negatives: 3  True Negatives: 465\n",
      "Fold 7 Done\n"
     ]
    },
    {
     "name": "stderr",
     "output_type": "stream",
     "text": [
      "<ipython-input-85-5f26d847b0c4>:19: RuntimeWarning: invalid value encountered in double_scalars\n",
      "  sprob = sprob/(nsprob+sprob)\n"
     ]
    },
    {
     "name": "stdout",
     "output_type": "stream",
     "text": [
      "Created Count Matrix for Fold 8\n",
      "Sum of spam and not spam prior probabilities: 1.0\n",
      "Sum of all the conditional word probabilities for spam: 0.9999999999999893\n",
      "Sum of all the conditional word probabilities for not_spam: 0.9999999999999356\n",
      "Accuracy: 0.9497307001795332\n",
      "Precision: 0.7473684210526316\n",
      "Recall: 0.9466666666666667\n",
      "Specificity: 0.950207468879668\n",
      "\n",
      "Confusion Matrix:\n",
      "                       Actual: Positive     Actual: Negative\n",
      "Predicted: Positive  True Positives: 71  False Positives: 24\n",
      "Predicted: Negative  False Negatives: 4  True Negatives: 458\n",
      "Fold 8 Done\n"
     ]
    },
    {
     "name": "stderr",
     "output_type": "stream",
     "text": [
      "<ipython-input-85-5f26d847b0c4>:19: RuntimeWarning: invalid value encountered in double_scalars\n",
      "  sprob = sprob/(nsprob+sprob)\n"
     ]
    },
    {
     "name": "stdout",
     "output_type": "stream",
     "text": [
      "Created Count Matrix for Fold 9\n",
      "Sum of spam and not spam prior probabilities: 1.0\n",
      "Sum of all the conditional word probabilities for spam: 1.0000000000000226\n",
      "Sum of all the conditional word probabilities for not_spam: 1.0000000000000475\n",
      "Accuracy: 0.940754039497307\n",
      "Precision: 0.71\n",
      "Recall: 0.9466666666666667\n",
      "Specificity: 0.9398340248962656\n",
      "\n",
      "Confusion Matrix:\n",
      "                       Actual: Positive     Actual: Negative\n",
      "Predicted: Positive  True Positives: 71  False Positives: 29\n",
      "Predicted: Negative  False Negatives: 4  True Negatives: 453\n",
      "Fold 9 Done\n"
     ]
    },
    {
     "name": "stderr",
     "output_type": "stream",
     "text": [
      "<ipython-input-85-5f26d847b0c4>:19: RuntimeWarning: invalid value encountered in double_scalars\n",
      "  sprob = sprob/(nsprob+sprob)\n"
     ]
    },
    {
     "name": "stdout",
     "output_type": "stream",
     "text": [
      "Created Count Matrix for Fold 10\n",
      "Sum of spam and not spam prior probabilities: 1.0\n",
      "Sum of all the conditional word probabilities for spam: 0.9999999999999849\n",
      "Sum of all the conditional word probabilities for not_spam: 1.0000000000000497\n",
      "Accuracy: 0.9658886894075404\n",
      "Precision: 0.8181818181818182\n",
      "Recall: 0.96\n",
      "Specificity: 0.966804979253112\n",
      "\n",
      "Confusion Matrix:\n",
      "                       Actual: Positive     Actual: Negative\n",
      "Predicted: Positive  True Positives: 72  False Positives: 16\n",
      "Predicted: Negative  False Negatives: 3  True Negatives: 466\n",
      "Fold 10 Done\n"
     ]
    },
    {
     "name": "stderr",
     "output_type": "stream",
     "text": [
      "<ipython-input-85-5f26d847b0c4>:19: RuntimeWarning: invalid value encountered in double_scalars\n",
      "  sprob = sprob/(nsprob+sprob)\n"
     ]
    }
   ],
   "source": [
    "# %%time\n",
    "\n",
    "from sklearn.model_selection import StratifiedKFold\n",
    "import matplotlib.pyplot as plt\n",
    "import seaborn as sb\n",
    "\n",
    "messages = message_df['Message'].copy()\n",
    "labels = message_df['Label'].copy()\n",
    "skfolds = StratifiedKFold(n_splits=10)\n",
    "\n",
    "folds_avg_dic = {}\n",
    "count = 1\n",
    "\n",
    "#Indicates whether laplace smoothing is being applied or not. \n",
    "smoothing = False\n",
    "#picking a threshold of 50% for computing the accuracy, precision and other evaluation metrics.\n",
    "thresh = 0.5\n",
    "\n",
    "tprs = []\n",
    "fprs = []\n",
    "\n",
    "accuracies = []\n",
    "precisions = []\n",
    "recalls = []\n",
    "specificities = []\n",
    "for train_index, test_index in skfolds.split(messages, labels):\n",
    "\n",
    "    X_train_folds = messages[train_index].reset_index(drop=True)\n",
    "    y_train_folds = labels[train_index].reset_index(drop=True)\n",
    "    X_test_folds = messages[test_index].reset_index(drop=True)\n",
    "    y_test_folds = labels[test_index].reset_index(drop=True)\n",
    "\n",
    "    avg_dic = {}\n",
    "    unique_words = num_unique_words(X_train_folds)\n",
    "    count_unique_df = count_of_unique(unique_words, X_train_folds)\n",
    "    #Data Preparation - Question 2\n",
    "    folds_avg_dic[count] = count_unique_df.mean()\n",
    "    print('Created Count Matrix for Fold',count)\n",
    "    \n",
    "    #train\n",
    "    spam_word_probs, not_spam_word_probs, spam_prob, not_spam_prob = train(y_train_folds, count_unique_df, smoothing = smoothing)\n",
    "    \n",
    "    #test and generate roc curves \n",
    "    #Spam prediction \n",
    "    #Question 2\n",
    "    test_preds = test(X_test_folds,spam_word_probs, not_spam_word_probs, spam_prob, not_spam_prob)\n",
    "#     print('Spam Predictions for testing set ', test_preds)\n",
    "    \n",
    "    #The probability that the message is not spam is simply 1- spam_probability_of_the_message.\n",
    "    \n",
    "    #generate roc curve\n",
    "    tpr, fpr = my_roc_func(test_preds, y_test_folds)\n",
    "    tprs.append(tpr)\n",
    "    fprs.append(fpr)\n",
    "\n",
    "    accuracy, precision, recall, specificity, confusion_matrix = my_class_scores(test_preds, y_test_folds,thresh)\n",
    "    \n",
    "    accuracies.append(accuracy)\n",
    "    precisions.append(precision)\n",
    "    recalls.append(recall)\n",
    "    specificities.append(specificity)\n",
    "\n",
    "    print('Accuracy:', accuracy)\n",
    "    print('Precision:', precision)\n",
    "    print('Recall:', recall)\n",
    "    print('Specificity:', specificity)\n",
    "    print()\n",
    "    print('Confusion Matrix:')\n",
    "    print(confusion_matrix)\n",
    "\n",
    "    print('Fold',count,'Done')\n",
    "    count += 1\n"
   ]
  },
  {
   "cell_type": "code",
   "execution_count": 104,
   "id": "cb529027",
   "metadata": {},
   "outputs": [
    {
     "name": "stdout",
     "output_type": "stream",
     "text": [
      "Average Count of Each Unique words across all messages {1: 0               0.000798\n",
      "00              0.001994\n",
      "000             0.005185\n",
      "000pes          0.000199\n",
      "008704050406    0.000399\n",
      "                  ...   \n",
      "èn              0.000199\n",
      "é               0.000798\n",
      "ü               0.032708\n",
      "〨ud             0.000199\n",
      "鈥               0.000199\n",
      "Length: 8345, dtype: float64, 2: 0               0.000798\n",
      "00              0.001197\n",
      "000             0.004388\n",
      "000pes          0.000199\n",
      "008704050406    0.000399\n",
      "                  ...   \n",
      "é               0.000798\n",
      "ú1              0.000199\n",
      "ü               0.030913\n",
      "〨ud             0.000199\n",
      "鈥               0.000199\n",
      "Length: 8245, dtype: float64, 3: 0               0.000798\n",
      "00              0.001994\n",
      "000             0.005184\n",
      "000pes          0.000199\n",
      "008704050406    0.000399\n",
      "                  ...   \n",
      "é               0.000798\n",
      "ú1              0.000199\n",
      "ü               0.030907\n",
      "〨ud             0.000199\n",
      "鈥               0.000199\n",
      "Length: 8291, dtype: float64, 4: 0               0.000598\n",
      "00              0.001595\n",
      "000             0.005384\n",
      "008704050406    0.000399\n",
      "0121            0.000199\n",
      "                  ...   \n",
      "é               0.000798\n",
      "ú1              0.000199\n",
      "ü               0.031107\n",
      "〨ud             0.000199\n",
      "鈥               0.000199\n",
      "Length: 8260, dtype: float64, 5: 0               0.000798\n",
      "00              0.001795\n",
      "000             0.004985\n",
      "000pes          0.000199\n",
      "008704050406    0.000199\n",
      "                  ...   \n",
      "é               0.000798\n",
      "ú1              0.000199\n",
      "ü               0.029910\n",
      "〨ud             0.000199\n",
      "鈥               0.000199\n",
      "Length: 8296, dtype: float64, 6: 0               0.000798\n",
      "00              0.001795\n",
      "000             0.004985\n",
      "000pes          0.000199\n",
      "008704050406    0.000399\n",
      "                  ...   \n",
      "é               0.000798\n",
      "ú1              0.000199\n",
      "ü               0.031505\n",
      "〨ud             0.000199\n",
      "鈥               0.000199\n",
      "Length: 8262, dtype: float64, 7: 0               0.000798\n",
      "00              0.001795\n",
      "000             0.005583\n",
      "000pes          0.000199\n",
      "008704050406    0.000399\n",
      "                  ...   \n",
      "é               0.000798\n",
      "ú1              0.000199\n",
      "ü               0.030708\n",
      "〨ud             0.000199\n",
      "鈥               0.000199\n",
      "Length: 8280, dtype: float64, 8: 0               0.000798\n",
      "00              0.001795\n",
      "000             0.005583\n",
      "000pes          0.000199\n",
      "008704050406    0.000199\n",
      "                  ...   \n",
      "é               0.000798\n",
      "ú1              0.000199\n",
      "ü               0.030708\n",
      "〨ud             0.000199\n",
      "鈥               0.000199\n",
      "Length: 8294, dtype: float64, 9: 0               0.000199\n",
      "00              0.001994\n",
      "000             0.005184\n",
      "000pes          0.000199\n",
      "008704050406    0.000399\n",
      "                  ...   \n",
      "èn              0.000199\n",
      "ú1              0.000199\n",
      "ü               0.030708\n",
      "〨ud             0.000199\n",
      "鈥               0.000199\n",
      "Length: 8279, dtype: float64, 10: 0               0.000798\n",
      "00              0.001994\n",
      "000             0.005583\n",
      "000pes          0.000199\n",
      "008704050406    0.000399\n",
      "                  ...   \n",
      "zyada           0.000199\n",
      "èn              0.000199\n",
      "é               0.000798\n",
      "ú1              0.000199\n",
      "ü               0.031306\n",
      "Length: 8312, dtype: float64}\n"
     ]
    }
   ],
   "source": [
    "#The Plot for the average count of each unique word is created in the last cell.\n",
    "print(\"Average Count of Each Unique words across all messages\", folds_avg_dic)"
   ]
  },
  {
   "cell_type": "markdown",
   "id": "e8903cad",
   "metadata": {},
   "source": [
    "Above we show the evaluation metrics and the confusion matrix for each fold."
   ]
  },
  {
   "cell_type": "code",
   "execution_count": 105,
   "id": "928911c6",
   "metadata": {},
   "outputs": [
    {
     "name": "stdout",
     "output_type": "stream",
     "text": [
      "Average Metrics Along All The Folds:\n",
      "Average Accuracy: 0.9542360829585015\n",
      "Average Precision: 0.7652052987903025\n",
      "Average Recall: 0.9544504504504505\n",
      "Average Specificity: 0.9541957681503055\n"
     ]
    }
   ],
   "source": [
    "print(\"Average Metrics Along All The Folds:\")\n",
    "print('Average Accuracy:', sum(accuracies)/len(accuracies))\n",
    "print('Average Precision:', sum(precisions)/len(precisions))\n",
    "print('Average Recall:', sum(recalls)/len(recalls))\n",
    "print('Average Specificity:', sum(specificities)/len(specificities))"
   ]
  },
  {
   "cell_type": "code",
   "execution_count": 93,
   "id": "083e2532",
   "metadata": {},
   "outputs": [
    {
     "name": "stdout",
     "output_type": "stream",
     "text": [
      "\n"
     ]
    },
    {
     "data": {
      "image/png": "[encoded data removed]",
      "text/plain": [
       "<Figure size 432x288 with 1 Axes>"
      ]
     },
     "metadata": {
      "needs_background": "light"
     },
     "output_type": "display_data"
    }
   ],
   "source": [
    "print()\n",
    "# print('ROC Curves:')\n",
    "for fpr, trp in zip(fprs, tprs):\n",
    "    plt.plot(fpr,trp)\n",
    "plt.xlabel('False Positive Rate')\n",
    "plt.ylabel('True Positive Rate')\n",
    "plt.title('ROC Curves')\n",
    "plt.legend(['Fold '+str(i) for i in range(1,11)], loc=4)\n",
    "plt.show()    "
   ]
  },
  {
   "cell_type": "markdown",
   "id": "4a4f80a9",
   "metadata": {},
   "source": [
    "## With Laplace Smoothing"
   ]
  },
  {
   "cell_type": "code",
   "execution_count": 94,
   "id": "4531a457",
   "metadata": {},
   "outputs": [
    {
     "name": "stdout",
     "output_type": "stream",
     "text": [
      "Created Count Matrix for Fold 1\n",
      "Sum of spam and not spam prior probabilities: 1.0\n",
      "Sum of all the conditional word probabilities for spam: 0.999999999999958\n",
      "Sum of all the conditional word probabilities for not_spam: 0.9999999999999598\n",
      "Accuracy: 0.9910394265232975\n",
      "Precision: 0.9605263157894737\n",
      "Recall: 0.9733333333333334\n",
      "Specificity: 0.9937888198757764\n",
      "\n",
      "Confusion Matrix:\n",
      "                       Actual: Positive     Actual: Negative\n",
      "Predicted: Positive  True Positives: 73   False Positives: 3\n",
      "Predicted: Negative  False Negatives: 2  True Negatives: 480\n",
      "Fold 1 Done\n",
      "Created Count Matrix for Fold 2\n",
      "Sum of spam and not spam prior probabilities: 1.0\n",
      "Sum of all the conditional word probabilities for spam: 0.999999999999916\n",
      "Sum of all the conditional word probabilities for not_spam: 1.0000000000000482\n",
      "Accuracy: 0.982078853046595\n",
      "Precision: 0.9452054794520548\n",
      "Recall: 0.92\n",
      "Specificity: 0.9917184265010351\n",
      "\n",
      "Confusion Matrix:\n",
      "                       Actual: Positive     Actual: Negative\n",
      "Predicted: Positive  True Positives: 69   False Positives: 4\n",
      "Predicted: Negative  False Negatives: 6  True Negatives: 479\n",
      "Fold 2 Done\n"
     ]
    },
    {
     "name": "stderr",
     "output_type": "stream",
     "text": [
      "<ipython-input-85-5f26d847b0c4>:19: RuntimeWarning: invalid value encountered in double_scalars\n",
      "  sprob = sprob/(nsprob+sprob)\n"
     ]
    },
    {
     "name": "stdout",
     "output_type": "stream",
     "text": [
      "Created Count Matrix for Fold 3\n",
      "Sum of spam and not spam prior probabilities: 1.0\n",
      "Sum of all the conditional word probabilities for spam: 0.9999999999999037\n",
      "Sum of all the conditional word probabilities for not_spam: 0.9999999999999559\n",
      "Accuracy: 0.9838420107719928\n",
      "Precision: 0.9577464788732394\n",
      "Recall: 0.918918918918919\n",
      "Specificity: 0.9937888198757764\n",
      "\n",
      "Confusion Matrix:\n",
      "                       Actual: Positive     Actual: Negative\n",
      "Predicted: Positive  True Positives: 68   False Positives: 3\n",
      "Predicted: Negative  False Negatives: 6  True Negatives: 480\n",
      "Fold 3 Done\n",
      "Created Count Matrix for Fold 4\n",
      "Sum of spam and not spam prior probabilities: 1.0\n",
      "Sum of all the conditional word probabilities for spam: 1.0000000000001452\n",
      "Sum of all the conditional word probabilities for not_spam: 1.0000000000000044\n",
      "Accuracy: 0.9874326750448833\n",
      "Precision: 0.9466666666666667\n",
      "Recall: 0.9594594594594594\n",
      "Specificity: 0.9917184265010351\n",
      "\n",
      "Confusion Matrix:\n",
      "                       Actual: Positive     Actual: Negative\n",
      "Predicted: Positive  True Positives: 71   False Positives: 4\n",
      "Predicted: Negative  False Negatives: 3  True Negatives: 479\n",
      "Fold 4 Done\n"
     ]
    },
    {
     "name": "stderr",
     "output_type": "stream",
     "text": [
      "<ipython-input-85-5f26d847b0c4>:19: RuntimeWarning: invalid value encountered in double_scalars\n",
      "  sprob = sprob/(nsprob+sprob)\n"
     ]
    },
    {
     "name": "stdout",
     "output_type": "stream",
     "text": [
      "Created Count Matrix for Fold 5\n",
      "Sum of spam and not spam prior probabilities: 1.0\n",
      "Sum of all the conditional word probabilities for spam: 0.9999999999999721\n",
      "Sum of all the conditional word probabilities for not_spam: 1.000000000000004\n",
      "Accuracy: 0.9802513464991023\n",
      "Precision: 0.9701492537313433\n",
      "Recall: 0.8783783783783784\n",
      "Specificity: 0.9958592132505176\n",
      "\n",
      "Confusion Matrix:\n",
      "                       Actual: Positive     Actual: Negative\n",
      "Predicted: Positive  True Positives: 65   False Positives: 2\n",
      "Predicted: Negative  False Negatives: 9  True Negatives: 481\n",
      "Fold 5 Done\n"
     ]
    },
    {
     "name": "stderr",
     "output_type": "stream",
     "text": [
      "<ipython-input-85-5f26d847b0c4>:19: RuntimeWarning: invalid value encountered in double_scalars\n",
      "  sprob = sprob/(nsprob+sprob)\n"
     ]
    },
    {
     "name": "stdout",
     "output_type": "stream",
     "text": [
      "Created Count Matrix for Fold 6\n",
      "Sum of spam and not spam prior probabilities: 1.0\n",
      "Sum of all the conditional word probabilities for spam: 1.000000000000158\n",
      "Sum of all the conditional word probabilities for not_spam: 0.9999999999999284\n",
      "Accuracy: 0.9838420107719928\n",
      "Precision: 0.9852941176470589\n",
      "Recall: 0.8933333333333333\n",
      "Specificity: 0.9979253112033195\n",
      "\n",
      "Confusion Matrix:\n",
      "                       Actual: Positive     Actual: Negative\n",
      "Predicted: Positive  True Positives: 67   False Positives: 1\n",
      "Predicted: Negative  False Negatives: 8  True Negatives: 481\n",
      "Fold 6 Done\n"
     ]
    },
    {
     "name": "stderr",
     "output_type": "stream",
     "text": [
      "<ipython-input-85-5f26d847b0c4>:19: RuntimeWarning: invalid value encountered in double_scalars\n",
      "  sprob = sprob/(nsprob+sprob)\n"
     ]
    },
    {
     "name": "stdout",
     "output_type": "stream",
     "text": [
      "Created Count Matrix for Fold 7\n",
      "Sum of spam and not spam prior probabilities: 1.0\n",
      "Sum of all the conditional word probabilities for spam: 0.9999999999999046\n",
      "Sum of all the conditional word probabilities for not_spam: 1.0000000000000218\n",
      "Accuracy: 0.9820466786355476\n",
      "Precision: 0.9452054794520548\n",
      "Recall: 0.92\n",
      "Specificity: 0.991701244813278\n",
      "\n",
      "Confusion Matrix:\n",
      "                       Actual: Positive     Actual: Negative\n",
      "Predicted: Positive  True Positives: 69   False Positives: 4\n",
      "Predicted: Negative  False Negatives: 6  True Negatives: 478\n",
      "Fold 7 Done\n",
      "Created Count Matrix for Fold 8\n",
      "Sum of spam and not spam prior probabilities: 1.0\n",
      "Sum of all the conditional word probabilities for spam: 1.0000000000000078\n",
      "Sum of all the conditional word probabilities for not_spam: 0.9999999999999736\n",
      "Accuracy: 0.9874326750448833\n",
      "Precision: 0.9857142857142858\n",
      "Recall: 0.92\n",
      "Specificity: 0.9979253112033195\n",
      "\n",
      "Confusion Matrix:\n",
      "                       Actual: Positive     Actual: Negative\n",
      "Predicted: Positive  True Positives: 69   False Positives: 1\n",
      "Predicted: Negative  False Negatives: 6  True Negatives: 481\n",
      "Fold 8 Done\n",
      "Created Count Matrix for Fold 9\n",
      "Sum of spam and not spam prior probabilities: 1.0\n",
      "Sum of all the conditional word probabilities for spam: 0.999999999999956\n",
      "Sum of all the conditional word probabilities for not_spam: 1.0000000000000082\n",
      "Accuracy: 0.9838420107719928\n",
      "Precision: 0.9459459459459459\n",
      "Recall: 0.9333333333333333\n",
      "Specificity: 0.991701244813278\n",
      "\n",
      "Confusion Matrix:\n",
      "                       Actual: Positive     Actual: Negative\n",
      "Predicted: Positive  True Positives: 70   False Positives: 4\n",
      "Predicted: Negative  False Negatives: 5  True Negatives: 478\n",
      "Fold 9 Done\n",
      "Created Count Matrix for Fold 10\n",
      "Sum of spam and not spam prior probabilities: 1.0\n",
      "Sum of all the conditional word probabilities for spam: 0.9999999999999909\n",
      "Sum of all the conditional word probabilities for not_spam: 0.9999999999999969\n",
      "Accuracy: 0.9892280071813285\n",
      "Precision: 0.96\n",
      "Recall: 0.96\n",
      "Specificity: 0.9937759336099585\n",
      "\n",
      "Confusion Matrix:\n",
      "                       Actual: Positive     Actual: Negative\n",
      "Predicted: Positive  True Positives: 72   False Positives: 3\n",
      "Predicted: Negative  False Negatives: 3  True Negatives: 479\n",
      "Fold 10 Done\n"
     ]
    },
    {
     "name": "stderr",
     "output_type": "stream",
     "text": [
      "<ipython-input-85-5f26d847b0c4>:19: RuntimeWarning: invalid value encountered in double_scalars\n",
      "  sprob = sprob/(nsprob+sprob)\n"
     ]
    }
   ],
   "source": [
    "# %%time\n",
    "#Problem Refinement\n",
    "#Question 1\n",
    "from sklearn.model_selection import StratifiedKFold\n",
    "import matplotlib.pyplot as plt\n",
    "import seaborn as sb\n",
    "\n",
    "messages = message_df['Message'].copy()\n",
    "labels = message_df['Label'].copy()\n",
    "skfolds = StratifiedKFold(n_splits=10)\n",
    "\n",
    "folds_avg_dic = {}\n",
    "count = 1\n",
    "\n",
    "#Indicates whether laplace smoothing is being applied or not. \n",
    "smoothing = True\n",
    "#picking a threshold of 50% for computing the accuracy, precision and other evaluation metrics.\n",
    "thresh = 0.5\n",
    "\n",
    "tprs = []\n",
    "fprs = []\n",
    "\n",
    "accuracies = []\n",
    "precisions = []\n",
    "recalls = []\n",
    "specificities = []\n",
    "for train_index, test_index in skfolds.split(messages, labels):\n",
    "\n",
    "    X_train_folds = messages[train_index].reset_index(drop=True)\n",
    "    y_train_folds = labels[train_index].reset_index(drop=True)\n",
    "    X_test_folds = messages[test_index].reset_index(drop=True)\n",
    "    y_test_folds = labels[test_index].reset_index(drop=True)\n",
    "\n",
    "    avg_dic = {}\n",
    "    unique_words = num_unique_words(X_train_folds)\n",
    "    count_unique_df = count_of_unique(unique_words, X_train_folds)\n",
    "    #Data Preparation - Question 2\n",
    "    folds_avg_dic[count] = count_unique_df.mean()\n",
    "    print('Created Count Matrix for Fold',count)\n",
    "    \n",
    "    #train\n",
    "    spam_word_probs, not_spam_word_probs, spam_prob, not_spam_prob = train(y_train_folds, count_unique_df, smoothing = smoothing)\n",
    "    \n",
    "    #test and generate roc curves \n",
    "    #Spam prediction \n",
    "    #Question 2\n",
    "    test_preds = test(X_test_folds,spam_word_probs, not_spam_word_probs, spam_prob, not_spam_prob)\n",
    "#     print('Spam Predictions for testing set ', test_preds)\n",
    "    \n",
    "    #The probability that the message is not spam is simply 1- spam_probability_of_the_message.\n",
    "    \n",
    "    #generate roc curve\n",
    "    tpr, fpr = my_roc_func(test_preds, y_test_folds)\n",
    "    tprs.append(tpr)\n",
    "    fprs.append(fpr)\n",
    "\n",
    "    accuracy, precision, recall, specificity, confusion_matrix = my_class_scores(test_preds, y_test_folds,thresh)\n",
    "    \n",
    "    accuracies.append(accuracy)\n",
    "    precisions.append(precision)\n",
    "    recalls.append(recall)\n",
    "    specificities.append(specificity)\n",
    "\n",
    "    print('Accuracy:', accuracy)\n",
    "    print('Precision:', precision)\n",
    "    print('Recall:', recall)\n",
    "    print('Specificity:', specificity)\n",
    "    print()\n",
    "    print('Confusion Matrix:')\n",
    "    print(confusion_matrix)\n",
    "\n",
    "    print('Fold',count,'Done')\n",
    "    count += 1\n"
   ]
  },
  {
   "cell_type": "markdown",
   "id": "e2c21548",
   "metadata": {},
   "source": [
    "Above we show the evaluation metrics and the confusion matrix for each fold."
   ]
  },
  {
   "cell_type": "code",
   "execution_count": 95,
   "id": "022b227d",
   "metadata": {},
   "outputs": [
    {
     "name": "stdout",
     "output_type": "stream",
     "text": [
      "Average Count of Each Unique words across all messages {1: 0               0.000798\n",
      "00              0.001994\n",
      "000             0.005185\n",
      "000pes          0.000199\n",
      "008704050406    0.000399\n",
      "                  ...   \n",
      "èn              0.000199\n",
      "é               0.000798\n",
      "ü               0.032708\n",
      "〨ud             0.000199\n",
      "鈥               0.000199\n",
      "Length: 8345, dtype: float64, 2: 0               0.000798\n",
      "00              0.001197\n",
      "000             0.004388\n",
      "000pes          0.000199\n",
      "008704050406    0.000399\n",
      "                  ...   \n",
      "é               0.000798\n",
      "ú1              0.000199\n",
      "ü               0.030913\n",
      "〨ud             0.000199\n",
      "鈥               0.000199\n",
      "Length: 8245, dtype: float64, 3: 0               0.000798\n",
      "00              0.001994\n",
      "000             0.005184\n",
      "000pes          0.000199\n",
      "008704050406    0.000399\n",
      "                  ...   \n",
      "é               0.000798\n",
      "ú1              0.000199\n",
      "ü               0.030907\n",
      "〨ud             0.000199\n",
      "鈥               0.000199\n",
      "Length: 8291, dtype: float64, 4: 0               0.000598\n",
      "00              0.001595\n",
      "000             0.005384\n",
      "008704050406    0.000399\n",
      "0121            0.000199\n",
      "                  ...   \n",
      "é               0.000798\n",
      "ú1              0.000199\n",
      "ü               0.031107\n",
      "〨ud             0.000199\n",
      "鈥               0.000199\n",
      "Length: 8260, dtype: float64, 5: 0               0.000798\n",
      "00              0.001795\n",
      "000             0.004985\n",
      "000pes          0.000199\n",
      "008704050406    0.000199\n",
      "                  ...   \n",
      "é               0.000798\n",
      "ú1              0.000199\n",
      "ü               0.029910\n",
      "〨ud             0.000199\n",
      "鈥               0.000199\n",
      "Length: 8296, dtype: float64, 6: 0               0.000798\n",
      "00              0.001795\n",
      "000             0.004985\n",
      "000pes          0.000199\n",
      "008704050406    0.000399\n",
      "                  ...   \n",
      "é               0.000798\n",
      "ú1              0.000199\n",
      "ü               0.031505\n",
      "〨ud             0.000199\n",
      "鈥               0.000199\n",
      "Length: 8262, dtype: float64, 7: 0               0.000798\n",
      "00              0.001795\n",
      "000             0.005583\n",
      "000pes          0.000199\n",
      "008704050406    0.000399\n",
      "                  ...   \n",
      "é               0.000798\n",
      "ú1              0.000199\n",
      "ü               0.030708\n",
      "〨ud             0.000199\n",
      "鈥               0.000199\n",
      "Length: 8280, dtype: float64, 8: 0               0.000798\n",
      "00              0.001795\n",
      "000             0.005583\n",
      "000pes          0.000199\n",
      "008704050406    0.000199\n",
      "                  ...   \n",
      "é               0.000798\n",
      "ú1              0.000199\n",
      "ü               0.030708\n",
      "〨ud             0.000199\n",
      "鈥               0.000199\n",
      "Length: 8294, dtype: float64, 9: 0               0.000199\n",
      "00              0.001994\n",
      "000             0.005184\n",
      "000pes          0.000199\n",
      "008704050406    0.000399\n",
      "                  ...   \n",
      "èn              0.000199\n",
      "ú1              0.000199\n",
      "ü               0.030708\n",
      "〨ud             0.000199\n",
      "鈥               0.000199\n",
      "Length: 8279, dtype: float64, 10: 0               0.000798\n",
      "00              0.001994\n",
      "000             0.005583\n",
      "000pes          0.000199\n",
      "008704050406    0.000399\n",
      "                  ...   \n",
      "zyada           0.000199\n",
      "èn              0.000199\n",
      "é               0.000798\n",
      "ú1              0.000199\n",
      "ü               0.031306\n",
      "Length: 8312, dtype: float64}\n"
     ]
    }
   ],
   "source": [
    "print(\"Average Count of Each Unique words across all messages\", folds_avg_dic)\n",
    "#The Plot for the average count of each unique word is created in the last cell."
   ]
  },
  {
   "cell_type": "code",
   "execution_count": 102,
   "id": "c62f969d",
   "metadata": {},
   "outputs": [
    {
     "name": "stdout",
     "output_type": "stream",
     "text": [
      "Average Metrics Along All The Folds:\n",
      "Average Accuracy: 0.9851035694291616\n",
      "Average Precision: 0.9602454023272123\n",
      "Average Recall: 0.9276756756756758\n",
      "Average Specificity: 0.9939902751647294\n"
     ]
    }
   ],
   "source": [
    "print(\"Average Metrics Along All The Folds:\")\n",
    "print('Average Accuracy:', sum(accuracies)/len(accuracies))\n",
    "print('Average Precision:', sum(precisions)/len(precisions))\n",
    "print('Average Recall:', sum(recalls)/len(recalls))\n",
    "print('Average Specificity:', sum(specificities)/len(specificities))"
   ]
  },
  {
   "cell_type": "code",
   "execution_count": 97,
   "id": "325b1c25",
   "metadata": {},
   "outputs": [
    {
     "name": "stdout",
     "output_type": "stream",
     "text": [
      "\n"
     ]
    },
    {
     "data": {
      "image/png": "[encoded data removed]",
      "text/plain": [
       "<Figure size 432x288 with 1 Axes>"
      ]
     },
     "metadata": {
      "needs_background": "light"
     },
     "output_type": "display_data"
    }
   ],
   "source": [
    "print()\n",
    "# print('ROC Curves:')\n",
    "for fpr, trp in zip(fprs, tprs):\n",
    "    plt.plot(fpr,trp)\n",
    "plt.xlabel('False Positive Rate')\n",
    "plt.ylabel('True Positive Rate')\n",
    "plt.title('ROC Curves')\n",
    "\n",
    "plt.legend(['Fold '+str(i) for i in range(1,11)], loc=4)\n",
    "\n",
    "plt.show()    "
   ]
  },
  {
   "cell_type": "code",
   "execution_count": 98,
   "id": "8062f54d",
   "metadata": {},
   "outputs": [],
   "source": [
    "# plt.xticks(fontsize=14, rotation=90)"
   ]
  },
  {
   "cell_type": "markdown",
   "id": "ed29fabe",
   "metadata": {},
   "source": [
    "# Data Preparation - Question 2\n",
    "Plotting Word Frequencies for each fold"
   ]
  },
  {
   "cell_type": "code",
   "execution_count": 76,
   "id": "ae8eda0a",
   "metadata": {},
   "outputs": [
    {
     "name": "stdout",
     "output_type": "stream",
     "text": [
      "Fold 1\n"
     ]
    },
    {
     "data": {
      "image/png": "[encoded data removed]",
      "text/plain": [
       "<Figure size 1152x216 with 1 Axes>"
      ]
     },
     "metadata": {
      "needs_background": "light"
     },
     "output_type": "display_data"
    },
    {
     "name": "stdout",
     "output_type": "stream",
     "text": [
      "\n",
      "Fold 2\n"
     ]
    },
    {
     "data": {
      "image/png": "[encoded data removed]",
      "text/plain": [
       "<Figure size 1152x216 with 1 Axes>"
      ]
     },
     "metadata": {
      "needs_background": "light"
     },
     "output_type": "display_data"
    },
    {
     "name": "stdout",
     "output_type": "stream",
     "text": [
      "\n",
      "Fold 3\n"
     ]
    },
    {
     "data": {
      "image/png": "[encoded data removed]",
      "text/plain": [
       "<Figure size 1152x216 with 1 Axes>"
      ]
     },
     "metadata": {
      "needs_background": "light"
     },
     "output_type": "display_data"
    },
    {
     "name": "stdout",
     "output_type": "stream",
     "text": [
      "\n",
      "Fold 4\n"
     ]
    },
    {
     "data": {
      "image/png": "[encoded data removed]",
      "text/plain": [
       "<Figure size 1152x216 with 1 Axes>"
      ]
     },
     "metadata": {
      "needs_background": "light"
     },
     "output_type": "display_data"
    },
    {
     "name": "stdout",
     "output_type": "stream",
     "text": [
      "\n",
      "Fold 5\n"
     ]
    },
    {
     "data": {
      "image/png": "[encoded data removed]",
      "text/plain": [
       "<Figure size 1152x216 with 1 Axes>"
      ]
     },
     "metadata": {
      "needs_background": "light"
     },
     "output_type": "display_data"
    },
    {
     "name": "stdout",
     "output_type": "stream",
     "text": [
      "\n",
      "Fold 6\n"
     ]
    },
    {
     "data": {
      "image/png": "[encoded data removed]",
      "text/plain": [
       "<Figure size 1152x216 with 1 Axes>"
      ]
     },
     "metadata": {
      "needs_background": "light"
     },
     "output_type": "display_data"
    },
    {
     "name": "stdout",
     "output_type": "stream",
     "text": [
      "\n",
      "Fold 7\n"
     ]
    },
    {
     "data": {
      "image/png": "[encoded data removed]",
      "text/plain": [
       "<Figure size 1152x216 with 1 Axes>"
      ]
     },
     "metadata": {
      "needs_background": "light"
     },
     "output_type": "display_data"
    },
    {
     "name": "stdout",
     "output_type": "stream",
     "text": [
      "\n",
      "Fold 8\n"
     ]
    },
    {
     "data": {
      "image/png": "[encoded data removed]",
      "text/plain": [
       "<Figure size 1152x216 with 1 Axes>"
      ]
     },
     "metadata": {
      "needs_background": "light"
     },
     "output_type": "display_data"
    },
    {
     "name": "stdout",
     "output_type": "stream",
     "text": [
      "\n",
      "Fold 9\n"
     ]
    },
    {
     "data": {
      "image/png": "[encoded data removed]",
      "text/plain": [
       "<Figure size 1152x216 with 1 Axes>"
      ]
     },
     "metadata": {
      "needs_background": "light"
     },
     "output_type": "display_data"
    },
    {
     "name": "stdout",
     "output_type": "stream",
     "text": [
      "\n",
      "Fold 10\n"
     ]
    },
    {
     "data": {
      "image/png": "[encoded data removed]",
      "text/plain": [
       "<Figure size 1152x216 with 1 Axes>"
      ]
     },
     "metadata": {
      "needs_background": "light"
     },
     "output_type": "display_data"
    },
    {
     "name": "stdout",
     "output_type": "stream",
     "text": [
      "\n"
     ]
    }
   ],
   "source": [
    "import matplotlib.pyplot as plt\n",
    "\n",
    "count = 1\n",
    "\n",
    "for key in folds_avg_dic:\n",
    "    print('Fold', count)\n",
    "    series = folds_avg_dic[key]\n",
    "    sd = series.to_dict()\n",
    "    words = list(sd.keys())\n",
    "    averages = list(sd.values())\n",
    "    plt.figure(figsize=(16, 3))\n",
    "    x1,x2,y1,y2 = plt.axis()  \n",
    "    plt.axis((x1,x2,0,0.6))\n",
    "    plt.bar(range(len(sd)), averages, tick_label=words)\n",
    "    plt.xlabel('Word')\n",
    "    plt.ylabel('Average Count')\n",
    "    plt.title('Unique Word vs Average Count')\n",
    "    plt.xticks(fontsize=1, rotation=90)\n",
    "    plt.show()\n",
    "    count    += 1\n",
    "    print()\n"
   ]
  },
  {
   "cell_type": "code",
   "execution_count": null,
   "id": "08b1b62e",
   "metadata": {},
   "outputs": [],
   "source": [
    "#Alternate code, takes lesser time but smaller plots.\n",
    "# import matplotlib.pyplot as plt\n",
    "\n",
    "# for key in folds_avg_dic:\n",
    "#     plt.figure(figsize=(16, 3))\n",
    "#     series = folds_avg_dic[key]\n",
    "#     sd = series.to_dict()\n",
    "    \n",
    "#     words = list(sd.keys())\n",
    "#     averages = list(sd.values())\n",
    "#     plt.bar(range(len(sd)), averages, tick_label=words)\n",
    "#     plt.xlabel('Word')\n",
    "#     plt.ylabel('Average Count')\n",
    "#     plt.title('Unique Word vs Average Count')\n",
    "#     plt.show()"
   ]
  },
  {
   "cell_type": "markdown",
   "id": "20fbf251",
   "metadata": {},
   "source": [
    "# Prediction Assessment - Question 4"
   ]
  },
  {
   "cell_type": "markdown",
   "id": "7db270b4",
   "metadata": {},
   "source": [
    "Although Naive Bayes is a simple algorithm and makes Naive assumptions about the data, it performs well. \n",
    "However, it presents some challenges. First of all, it is called Naive because it has this naive assumption that the probability of each word occurring in a sentence is independent of other words' occurrence, but since words maybe correlate, the naive assumption might fail and negatively affect performance.\n",
    "Second, it presents some challenges in handling zero probability cases; we cannot predict messages effectively if the words are not in our train vocabulary.\n",
    "For improvement, we can clean the data further. For example, we can remove the words that rarely occur because, in this case, we might incorrectly categorize a message being as spam/ham based on one occurrence. Also, we could identify these rare words and gather more emails containing those words so that our model could predict with better confidence. Moreover, we could maybe perform stratified splitting based on the word counts and see if it improves our performance even further.\n",
    "Most importantly, we can see that the ROC curves quickly reach a high tpr meaning that the model can make accurate predictions with high confidence/probability."
   ]
  },
  {
   "cell_type": "markdown",
   "id": "c7ce7a33",
   "metadata": {},
   "source": [
    "# Problem Refinement - Question 2 (Result of Laplace Smoothing)\n",
    "Discuss how the results after Laplace Smoothing differ from the prior results."
   ]
  },
  {
   "cell_type": "markdown",
   "id": "feb82e68",
   "metadata": {},
   "source": [
    "We ran all our code once without Laplace smoothing and once with Laplace smoothing and printed average accuracy, average precision, average recall, and average specificity.\n",
    "Although we got high and very confident values of 95%, 75%, 98%, and 94% for each of them accordingly, after applying the Laplace smoothing, we got even higher values of 99%, 96%, 97%, and 99% percent accordingly. As we can notice, the precision value changed from 75% to 96%, which is a significant improvement. Moreover, it helps us handle zero probability cases when a word does not occur in one of spam or not spam messages.\n"
   ]
  },
  {
   "cell_type": "markdown",
   "id": "65a7caa7",
   "metadata": {},
   "source": [
    "# References\n",
    "\n",
    "The following articles and links were referred to for understanding a few concepts to answer question 1:\n",
    "\n",
    "- https://towardsdatascience.com/laplace-smoothing-in-na%C3%AFve-bayes-algorithm-9c237a8bdece:\n",
    "To understand Laplace Smoothing. \n",
    "\n",
    "- https://www.kdnuggets.com/2020/07/spam-filter-python-naive-bayes-scratch.html\n",
    "For understanding the theory behind naive bayes and clarifying doubts such as \"should we count multiple occurences of a word in a message\".\n",
    "\n",
    "- https://pandas.pydata.org/docs/\n",
    "\n",
    "- https://matplotlib.org/stable/api/_as_gen/matplotlib.pyplot.html"
   ]
  },
  {
   "cell_type": "code",
   "execution_count": null,
   "id": "b3e174dc",
   "metadata": {},
   "outputs": [],
   "source": []
  }
 ],
 "metadata": {
  "kernelspec": {
   "display_name": "Python 3",
   "language": "python",
   "name": "python3"
  },
  "language_info": {
   "codemirror_mode": {
    "name": "ipython",
    "version": 3
   },
   "file_extension": ".py",
   "mimetype": "text/x-python",
   "name": "python",
   "nbconvert_exporter": "python",
   "pygments_lexer": "ipython3",
   "version": "3.8.8"
  }
 },
 "nbformat": 4,
 "nbformat_minor": 5
}
